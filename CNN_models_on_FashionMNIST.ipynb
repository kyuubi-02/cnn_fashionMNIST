{
  "nbformat": 4,
  "nbformat_minor": 0,
  "metadata": {
    "colab": {
      "provenance": [],
      "collapsed_sections": []
    },
    "kernelspec": {
      "name": "python3",
      "display_name": "Python 3"
    },
    "language_info": {
      "name": "python"
    },
    "accelerator": "GPU",
    "gpuClass": "standard",
    "widgets": {
      "application/vnd.jupyter.widget-state+json": {
        "ae7b862ccd154cddbe28d13b52ae5506": {
          "model_module": "@jupyter-widgets/controls",
          "model_name": "HBoxModel",
          "model_module_version": "1.5.0",
          "state": {
            "_dom_classes": [],
            "_model_module": "@jupyter-widgets/controls",
            "_model_module_version": "1.5.0",
            "_model_name": "HBoxModel",
            "_view_count": null,
            "_view_module": "@jupyter-widgets/controls",
            "_view_module_version": "1.5.0",
            "_view_name": "HBoxView",
            "box_style": "",
            "children": [
              "IPY_MODEL_9f410be993c34bc892868baee01f693f",
              "IPY_MODEL_149ec7efd13f4866adc115ffe4d6d646",
              "IPY_MODEL_48f37b2e42a446a38c6e4025999a40fa"
            ],
            "layout": "IPY_MODEL_0efb7a83ce11453e9a96510df97c7681"
          }
        },
        "9f410be993c34bc892868baee01f693f": {
          "model_module": "@jupyter-widgets/controls",
          "model_name": "HTMLModel",
          "model_module_version": "1.5.0",
          "state": {
            "_dom_classes": [],
            "_model_module": "@jupyter-widgets/controls",
            "_model_module_version": "1.5.0",
            "_model_name": "HTMLModel",
            "_view_count": null,
            "_view_module": "@jupyter-widgets/controls",
            "_view_module_version": "1.5.0",
            "_view_name": "HTMLView",
            "description": "",
            "description_tooltip": null,
            "layout": "IPY_MODEL_629b582d95b64722b55f921960aeb41c",
            "placeholder": "​",
            "style": "IPY_MODEL_1b1b03c65e274cd7a85f3df63812c277",
            "value": "100%"
          }
        },
        "149ec7efd13f4866adc115ffe4d6d646": {
          "model_module": "@jupyter-widgets/controls",
          "model_name": "FloatProgressModel",
          "model_module_version": "1.5.0",
          "state": {
            "_dom_classes": [],
            "_model_module": "@jupyter-widgets/controls",
            "_model_module_version": "1.5.0",
            "_model_name": "FloatProgressModel",
            "_view_count": null,
            "_view_module": "@jupyter-widgets/controls",
            "_view_module_version": "1.5.0",
            "_view_name": "ProgressView",
            "bar_style": "success",
            "description": "",
            "description_tooltip": null,
            "layout": "IPY_MODEL_16cc0eabd46545c5ab1843182550d550",
            "max": 26421880,
            "min": 0,
            "orientation": "horizontal",
            "style": "IPY_MODEL_1410f10acb924e7ea28d88975569c846",
            "value": 26421880
          }
        },
        "48f37b2e42a446a38c6e4025999a40fa": {
          "model_module": "@jupyter-widgets/controls",
          "model_name": "HTMLModel",
          "model_module_version": "1.5.0",
          "state": {
            "_dom_classes": [],
            "_model_module": "@jupyter-widgets/controls",
            "_model_module_version": "1.5.0",
            "_model_name": "HTMLModel",
            "_view_count": null,
            "_view_module": "@jupyter-widgets/controls",
            "_view_module_version": "1.5.0",
            "_view_name": "HTMLView",
            "description": "",
            "description_tooltip": null,
            "layout": "IPY_MODEL_dadecc4d83504618a1faf7be5ec7cb1c",
            "placeholder": "​",
            "style": "IPY_MODEL_e03ec2cbb5ea4eac860a5b3beac9a1f8",
            "value": " 26421880/26421880 [00:00&lt;00:00, 114060338.46it/s]"
          }
        },
        "0efb7a83ce11453e9a96510df97c7681": {
          "model_module": "@jupyter-widgets/base",
          "model_name": "LayoutModel",
          "model_module_version": "1.2.0",
          "state": {
            "_model_module": "@jupyter-widgets/base",
            "_model_module_version": "1.2.0",
            "_model_name": "LayoutModel",
            "_view_count": null,
            "_view_module": "@jupyter-widgets/base",
            "_view_module_version": "1.2.0",
            "_view_name": "LayoutView",
            "align_content": null,
            "align_items": null,
            "align_self": null,
            "border": null,
            "bottom": null,
            "display": null,
            "flex": null,
            "flex_flow": null,
            "grid_area": null,
            "grid_auto_columns": null,
            "grid_auto_flow": null,
            "grid_auto_rows": null,
            "grid_column": null,
            "grid_gap": null,
            "grid_row": null,
            "grid_template_areas": null,
            "grid_template_columns": null,
            "grid_template_rows": null,
            "height": null,
            "justify_content": null,
            "justify_items": null,
            "left": null,
            "margin": null,
            "max_height": null,
            "max_width": null,
            "min_height": null,
            "min_width": null,
            "object_fit": null,
            "object_position": null,
            "order": null,
            "overflow": null,
            "overflow_x": null,
            "overflow_y": null,
            "padding": null,
            "right": null,
            "top": null,
            "visibility": null,
            "width": null
          }
        },
        "629b582d95b64722b55f921960aeb41c": {
          "model_module": "@jupyter-widgets/base",
          "model_name": "LayoutModel",
          "model_module_version": "1.2.0",
          "state": {
            "_model_module": "@jupyter-widgets/base",
            "_model_module_version": "1.2.0",
            "_model_name": "LayoutModel",
            "_view_count": null,
            "_view_module": "@jupyter-widgets/base",
            "_view_module_version": "1.2.0",
            "_view_name": "LayoutView",
            "align_content": null,
            "align_items": null,
            "align_self": null,
            "border": null,
            "bottom": null,
            "display": null,
            "flex": null,
            "flex_flow": null,
            "grid_area": null,
            "grid_auto_columns": null,
            "grid_auto_flow": null,
            "grid_auto_rows": null,
            "grid_column": null,
            "grid_gap": null,
            "grid_row": null,
            "grid_template_areas": null,
            "grid_template_columns": null,
            "grid_template_rows": null,
            "height": null,
            "justify_content": null,
            "justify_items": null,
            "left": null,
            "margin": null,
            "max_height": null,
            "max_width": null,
            "min_height": null,
            "min_width": null,
            "object_fit": null,
            "object_position": null,
            "order": null,
            "overflow": null,
            "overflow_x": null,
            "overflow_y": null,
            "padding": null,
            "right": null,
            "top": null,
            "visibility": null,
            "width": null
          }
        },
        "1b1b03c65e274cd7a85f3df63812c277": {
          "model_module": "@jupyter-widgets/controls",
          "model_name": "DescriptionStyleModel",
          "model_module_version": "1.5.0",
          "state": {
            "_model_module": "@jupyter-widgets/controls",
            "_model_module_version": "1.5.0",
            "_model_name": "DescriptionStyleModel",
            "_view_count": null,
            "_view_module": "@jupyter-widgets/base",
            "_view_module_version": "1.2.0",
            "_view_name": "StyleView",
            "description_width": ""
          }
        },
        "16cc0eabd46545c5ab1843182550d550": {
          "model_module": "@jupyter-widgets/base",
          "model_name": "LayoutModel",
          "model_module_version": "1.2.0",
          "state": {
            "_model_module": "@jupyter-widgets/base",
            "_model_module_version": "1.2.0",
            "_model_name": "LayoutModel",
            "_view_count": null,
            "_view_module": "@jupyter-widgets/base",
            "_view_module_version": "1.2.0",
            "_view_name": "LayoutView",
            "align_content": null,
            "align_items": null,
            "align_self": null,
            "border": null,
            "bottom": null,
            "display": null,
            "flex": null,
            "flex_flow": null,
            "grid_area": null,
            "grid_auto_columns": null,
            "grid_auto_flow": null,
            "grid_auto_rows": null,
            "grid_column": null,
            "grid_gap": null,
            "grid_row": null,
            "grid_template_areas": null,
            "grid_template_columns": null,
            "grid_template_rows": null,
            "height": null,
            "justify_content": null,
            "justify_items": null,
            "left": null,
            "margin": null,
            "max_height": null,
            "max_width": null,
            "min_height": null,
            "min_width": null,
            "object_fit": null,
            "object_position": null,
            "order": null,
            "overflow": null,
            "overflow_x": null,
            "overflow_y": null,
            "padding": null,
            "right": null,
            "top": null,
            "visibility": null,
            "width": null
          }
        },
        "1410f10acb924e7ea28d88975569c846": {
          "model_module": "@jupyter-widgets/controls",
          "model_name": "ProgressStyleModel",
          "model_module_version": "1.5.0",
          "state": {
            "_model_module": "@jupyter-widgets/controls",
            "_model_module_version": "1.5.0",
            "_model_name": "ProgressStyleModel",
            "_view_count": null,
            "_view_module": "@jupyter-widgets/base",
            "_view_module_version": "1.2.0",
            "_view_name": "StyleView",
            "bar_color": null,
            "description_width": ""
          }
        },
        "dadecc4d83504618a1faf7be5ec7cb1c": {
          "model_module": "@jupyter-widgets/base",
          "model_name": "LayoutModel",
          "model_module_version": "1.2.0",
          "state": {
            "_model_module": "@jupyter-widgets/base",
            "_model_module_version": "1.2.0",
            "_model_name": "LayoutModel",
            "_view_count": null,
            "_view_module": "@jupyter-widgets/base",
            "_view_module_version": "1.2.0",
            "_view_name": "LayoutView",
            "align_content": null,
            "align_items": null,
            "align_self": null,
            "border": null,
            "bottom": null,
            "display": null,
            "flex": null,
            "flex_flow": null,
            "grid_area": null,
            "grid_auto_columns": null,
            "grid_auto_flow": null,
            "grid_auto_rows": null,
            "grid_column": null,
            "grid_gap": null,
            "grid_row": null,
            "grid_template_areas": null,
            "grid_template_columns": null,
            "grid_template_rows": null,
            "height": null,
            "justify_content": null,
            "justify_items": null,
            "left": null,
            "margin": null,
            "max_height": null,
            "max_width": null,
            "min_height": null,
            "min_width": null,
            "object_fit": null,
            "object_position": null,
            "order": null,
            "overflow": null,
            "overflow_x": null,
            "overflow_y": null,
            "padding": null,
            "right": null,
            "top": null,
            "visibility": null,
            "width": null
          }
        },
        "e03ec2cbb5ea4eac860a5b3beac9a1f8": {
          "model_module": "@jupyter-widgets/controls",
          "model_name": "DescriptionStyleModel",
          "model_module_version": "1.5.0",
          "state": {
            "_model_module": "@jupyter-widgets/controls",
            "_model_module_version": "1.5.0",
            "_model_name": "DescriptionStyleModel",
            "_view_count": null,
            "_view_module": "@jupyter-widgets/base",
            "_view_module_version": "1.2.0",
            "_view_name": "StyleView",
            "description_width": ""
          }
        },
        "fdb0f8e0a6924a709c37900bc0ab0aed": {
          "model_module": "@jupyter-widgets/controls",
          "model_name": "HBoxModel",
          "model_module_version": "1.5.0",
          "state": {
            "_dom_classes": [],
            "_model_module": "@jupyter-widgets/controls",
            "_model_module_version": "1.5.0",
            "_model_name": "HBoxModel",
            "_view_count": null,
            "_view_module": "@jupyter-widgets/controls",
            "_view_module_version": "1.5.0",
            "_view_name": "HBoxView",
            "box_style": "",
            "children": [
              "IPY_MODEL_fda0ce279e144bc393fa47f3a543793f",
              "IPY_MODEL_c7461188f91245c9ad942e80d41acaae",
              "IPY_MODEL_24c02887d6484724a5f5dc8c24dd34f1"
            ],
            "layout": "IPY_MODEL_469b94b2db6f4096b915e946e837e673"
          }
        },
        "fda0ce279e144bc393fa47f3a543793f": {
          "model_module": "@jupyter-widgets/controls",
          "model_name": "HTMLModel",
          "model_module_version": "1.5.0",
          "state": {
            "_dom_classes": [],
            "_model_module": "@jupyter-widgets/controls",
            "_model_module_version": "1.5.0",
            "_model_name": "HTMLModel",
            "_view_count": null,
            "_view_module": "@jupyter-widgets/controls",
            "_view_module_version": "1.5.0",
            "_view_name": "HTMLView",
            "description": "",
            "description_tooltip": null,
            "layout": "IPY_MODEL_b86c588bc1f34cd2a2827ee6a3f2cf66",
            "placeholder": "​",
            "style": "IPY_MODEL_700e2f583f784f5d9e8bd3abcef1fbdd",
            "value": "100%"
          }
        },
        "c7461188f91245c9ad942e80d41acaae": {
          "model_module": "@jupyter-widgets/controls",
          "model_name": "FloatProgressModel",
          "model_module_version": "1.5.0",
          "state": {
            "_dom_classes": [],
            "_model_module": "@jupyter-widgets/controls",
            "_model_module_version": "1.5.0",
            "_model_name": "FloatProgressModel",
            "_view_count": null,
            "_view_module": "@jupyter-widgets/controls",
            "_view_module_version": "1.5.0",
            "_view_name": "ProgressView",
            "bar_style": "success",
            "description": "",
            "description_tooltip": null,
            "layout": "IPY_MODEL_cd84e52e46ce4053ae21e86844fe65e1",
            "max": 29515,
            "min": 0,
            "orientation": "horizontal",
            "style": "IPY_MODEL_245a13140c8e458dac43d776f7a32ede",
            "value": 29515
          }
        },
        "24c02887d6484724a5f5dc8c24dd34f1": {
          "model_module": "@jupyter-widgets/controls",
          "model_name": "HTMLModel",
          "model_module_version": "1.5.0",
          "state": {
            "_dom_classes": [],
            "_model_module": "@jupyter-widgets/controls",
            "_model_module_version": "1.5.0",
            "_model_name": "HTMLModel",
            "_view_count": null,
            "_view_module": "@jupyter-widgets/controls",
            "_view_module_version": "1.5.0",
            "_view_name": "HTMLView",
            "description": "",
            "description_tooltip": null,
            "layout": "IPY_MODEL_925f90abb30842b1955bba584fa8b9fd",
            "placeholder": "​",
            "style": "IPY_MODEL_bddb476a738b477f83c9a00955fef20b",
            "value": " 29515/29515 [00:00&lt;00:00, 820328.03it/s]"
          }
        },
        "469b94b2db6f4096b915e946e837e673": {
          "model_module": "@jupyter-widgets/base",
          "model_name": "LayoutModel",
          "model_module_version": "1.2.0",
          "state": {
            "_model_module": "@jupyter-widgets/base",
            "_model_module_version": "1.2.0",
            "_model_name": "LayoutModel",
            "_view_count": null,
            "_view_module": "@jupyter-widgets/base",
            "_view_module_version": "1.2.0",
            "_view_name": "LayoutView",
            "align_content": null,
            "align_items": null,
            "align_self": null,
            "border": null,
            "bottom": null,
            "display": null,
            "flex": null,
            "flex_flow": null,
            "grid_area": null,
            "grid_auto_columns": null,
            "grid_auto_flow": null,
            "grid_auto_rows": null,
            "grid_column": null,
            "grid_gap": null,
            "grid_row": null,
            "grid_template_areas": null,
            "grid_template_columns": null,
            "grid_template_rows": null,
            "height": null,
            "justify_content": null,
            "justify_items": null,
            "left": null,
            "margin": null,
            "max_height": null,
            "max_width": null,
            "min_height": null,
            "min_width": null,
            "object_fit": null,
            "object_position": null,
            "order": null,
            "overflow": null,
            "overflow_x": null,
            "overflow_y": null,
            "padding": null,
            "right": null,
            "top": null,
            "visibility": null,
            "width": null
          }
        },
        "b86c588bc1f34cd2a2827ee6a3f2cf66": {
          "model_module": "@jupyter-widgets/base",
          "model_name": "LayoutModel",
          "model_module_version": "1.2.0",
          "state": {
            "_model_module": "@jupyter-widgets/base",
            "_model_module_version": "1.2.0",
            "_model_name": "LayoutModel",
            "_view_count": null,
            "_view_module": "@jupyter-widgets/base",
            "_view_module_version": "1.2.0",
            "_view_name": "LayoutView",
            "align_content": null,
            "align_items": null,
            "align_self": null,
            "border": null,
            "bottom": null,
            "display": null,
            "flex": null,
            "flex_flow": null,
            "grid_area": null,
            "grid_auto_columns": null,
            "grid_auto_flow": null,
            "grid_auto_rows": null,
            "grid_column": null,
            "grid_gap": null,
            "grid_row": null,
            "grid_template_areas": null,
            "grid_template_columns": null,
            "grid_template_rows": null,
            "height": null,
            "justify_content": null,
            "justify_items": null,
            "left": null,
            "margin": null,
            "max_height": null,
            "max_width": null,
            "min_height": null,
            "min_width": null,
            "object_fit": null,
            "object_position": null,
            "order": null,
            "overflow": null,
            "overflow_x": null,
            "overflow_y": null,
            "padding": null,
            "right": null,
            "top": null,
            "visibility": null,
            "width": null
          }
        },
        "700e2f583f784f5d9e8bd3abcef1fbdd": {
          "model_module": "@jupyter-widgets/controls",
          "model_name": "DescriptionStyleModel",
          "model_module_version": "1.5.0",
          "state": {
            "_model_module": "@jupyter-widgets/controls",
            "_model_module_version": "1.5.0",
            "_model_name": "DescriptionStyleModel",
            "_view_count": null,
            "_view_module": "@jupyter-widgets/base",
            "_view_module_version": "1.2.0",
            "_view_name": "StyleView",
            "description_width": ""
          }
        },
        "cd84e52e46ce4053ae21e86844fe65e1": {
          "model_module": "@jupyter-widgets/base",
          "model_name": "LayoutModel",
          "model_module_version": "1.2.0",
          "state": {
            "_model_module": "@jupyter-widgets/base",
            "_model_module_version": "1.2.0",
            "_model_name": "LayoutModel",
            "_view_count": null,
            "_view_module": "@jupyter-widgets/base",
            "_view_module_version": "1.2.0",
            "_view_name": "LayoutView",
            "align_content": null,
            "align_items": null,
            "align_self": null,
            "border": null,
            "bottom": null,
            "display": null,
            "flex": null,
            "flex_flow": null,
            "grid_area": null,
            "grid_auto_columns": null,
            "grid_auto_flow": null,
            "grid_auto_rows": null,
            "grid_column": null,
            "grid_gap": null,
            "grid_row": null,
            "grid_template_areas": null,
            "grid_template_columns": null,
            "grid_template_rows": null,
            "height": null,
            "justify_content": null,
            "justify_items": null,
            "left": null,
            "margin": null,
            "max_height": null,
            "max_width": null,
            "min_height": null,
            "min_width": null,
            "object_fit": null,
            "object_position": null,
            "order": null,
            "overflow": null,
            "overflow_x": null,
            "overflow_y": null,
            "padding": null,
            "right": null,
            "top": null,
            "visibility": null,
            "width": null
          }
        },
        "245a13140c8e458dac43d776f7a32ede": {
          "model_module": "@jupyter-widgets/controls",
          "model_name": "ProgressStyleModel",
          "model_module_version": "1.5.0",
          "state": {
            "_model_module": "@jupyter-widgets/controls",
            "_model_module_version": "1.5.0",
            "_model_name": "ProgressStyleModel",
            "_view_count": null,
            "_view_module": "@jupyter-widgets/base",
            "_view_module_version": "1.2.0",
            "_view_name": "StyleView",
            "bar_color": null,
            "description_width": ""
          }
        },
        "925f90abb30842b1955bba584fa8b9fd": {
          "model_module": "@jupyter-widgets/base",
          "model_name": "LayoutModel",
          "model_module_version": "1.2.0",
          "state": {
            "_model_module": "@jupyter-widgets/base",
            "_model_module_version": "1.2.0",
            "_model_name": "LayoutModel",
            "_view_count": null,
            "_view_module": "@jupyter-widgets/base",
            "_view_module_version": "1.2.0",
            "_view_name": "LayoutView",
            "align_content": null,
            "align_items": null,
            "align_self": null,
            "border": null,
            "bottom": null,
            "display": null,
            "flex": null,
            "flex_flow": null,
            "grid_area": null,
            "grid_auto_columns": null,
            "grid_auto_flow": null,
            "grid_auto_rows": null,
            "grid_column": null,
            "grid_gap": null,
            "grid_row": null,
            "grid_template_areas": null,
            "grid_template_columns": null,
            "grid_template_rows": null,
            "height": null,
            "justify_content": null,
            "justify_items": null,
            "left": null,
            "margin": null,
            "max_height": null,
            "max_width": null,
            "min_height": null,
            "min_width": null,
            "object_fit": null,
            "object_position": null,
            "order": null,
            "overflow": null,
            "overflow_x": null,
            "overflow_y": null,
            "padding": null,
            "right": null,
            "top": null,
            "visibility": null,
            "width": null
          }
        },
        "bddb476a738b477f83c9a00955fef20b": {
          "model_module": "@jupyter-widgets/controls",
          "model_name": "DescriptionStyleModel",
          "model_module_version": "1.5.0",
          "state": {
            "_model_module": "@jupyter-widgets/controls",
            "_model_module_version": "1.5.0",
            "_model_name": "DescriptionStyleModel",
            "_view_count": null,
            "_view_module": "@jupyter-widgets/base",
            "_view_module_version": "1.2.0",
            "_view_name": "StyleView",
            "description_width": ""
          }
        },
        "073e3e1a71244d25a32d37c881505b7d": {
          "model_module": "@jupyter-widgets/controls",
          "model_name": "HBoxModel",
          "model_module_version": "1.5.0",
          "state": {
            "_dom_classes": [],
            "_model_module": "@jupyter-widgets/controls",
            "_model_module_version": "1.5.0",
            "_model_name": "HBoxModel",
            "_view_count": null,
            "_view_module": "@jupyter-widgets/controls",
            "_view_module_version": "1.5.0",
            "_view_name": "HBoxView",
            "box_style": "",
            "children": [
              "IPY_MODEL_4bcb4627605c4ce18645773d35456967",
              "IPY_MODEL_2906f7b807c549969d07fe21e9fd64a1",
              "IPY_MODEL_2f8a2467488e41f8bf39e532bb64a3da"
            ],
            "layout": "IPY_MODEL_19ffdf1cacab4547ac006a034831eac2"
          }
        },
        "4bcb4627605c4ce18645773d35456967": {
          "model_module": "@jupyter-widgets/controls",
          "model_name": "HTMLModel",
          "model_module_version": "1.5.0",
          "state": {
            "_dom_classes": [],
            "_model_module": "@jupyter-widgets/controls",
            "_model_module_version": "1.5.0",
            "_model_name": "HTMLModel",
            "_view_count": null,
            "_view_module": "@jupyter-widgets/controls",
            "_view_module_version": "1.5.0",
            "_view_name": "HTMLView",
            "description": "",
            "description_tooltip": null,
            "layout": "IPY_MODEL_5844cea605654258be818958d7767c2d",
            "placeholder": "​",
            "style": "IPY_MODEL_2b8f61a7d6dd4e09adc86958018f26e0",
            "value": "100%"
          }
        },
        "2906f7b807c549969d07fe21e9fd64a1": {
          "model_module": "@jupyter-widgets/controls",
          "model_name": "FloatProgressModel",
          "model_module_version": "1.5.0",
          "state": {
            "_dom_classes": [],
            "_model_module": "@jupyter-widgets/controls",
            "_model_module_version": "1.5.0",
            "_model_name": "FloatProgressModel",
            "_view_count": null,
            "_view_module": "@jupyter-widgets/controls",
            "_view_module_version": "1.5.0",
            "_view_name": "ProgressView",
            "bar_style": "success",
            "description": "",
            "description_tooltip": null,
            "layout": "IPY_MODEL_ea09d021b77641ca8253de7352806ab5",
            "max": 4422102,
            "min": 0,
            "orientation": "horizontal",
            "style": "IPY_MODEL_ac0cab51b75c47a09154e8f06805638d",
            "value": 4422102
          }
        },
        "2f8a2467488e41f8bf39e532bb64a3da": {
          "model_module": "@jupyter-widgets/controls",
          "model_name": "HTMLModel",
          "model_module_version": "1.5.0",
          "state": {
            "_dom_classes": [],
            "_model_module": "@jupyter-widgets/controls",
            "_model_module_version": "1.5.0",
            "_model_name": "HTMLModel",
            "_view_count": null,
            "_view_module": "@jupyter-widgets/controls",
            "_view_module_version": "1.5.0",
            "_view_name": "HTMLView",
            "description": "",
            "description_tooltip": null,
            "layout": "IPY_MODEL_e0cfaf53765d4bdf97ef3fd942469e9f",
            "placeholder": "​",
            "style": "IPY_MODEL_00aa20cff2174d8a9dcc42ad519c3d0c",
            "value": " 4422102/4422102 [00:00&lt;00:00, 48771075.75it/s]"
          }
        },
        "19ffdf1cacab4547ac006a034831eac2": {
          "model_module": "@jupyter-widgets/base",
          "model_name": "LayoutModel",
          "model_module_version": "1.2.0",
          "state": {
            "_model_module": "@jupyter-widgets/base",
            "_model_module_version": "1.2.0",
            "_model_name": "LayoutModel",
            "_view_count": null,
            "_view_module": "@jupyter-widgets/base",
            "_view_module_version": "1.2.0",
            "_view_name": "LayoutView",
            "align_content": null,
            "align_items": null,
            "align_self": null,
            "border": null,
            "bottom": null,
            "display": null,
            "flex": null,
            "flex_flow": null,
            "grid_area": null,
            "grid_auto_columns": null,
            "grid_auto_flow": null,
            "grid_auto_rows": null,
            "grid_column": null,
            "grid_gap": null,
            "grid_row": null,
            "grid_template_areas": null,
            "grid_template_columns": null,
            "grid_template_rows": null,
            "height": null,
            "justify_content": null,
            "justify_items": null,
            "left": null,
            "margin": null,
            "max_height": null,
            "max_width": null,
            "min_height": null,
            "min_width": null,
            "object_fit": null,
            "object_position": null,
            "order": null,
            "overflow": null,
            "overflow_x": null,
            "overflow_y": null,
            "padding": null,
            "right": null,
            "top": null,
            "visibility": null,
            "width": null
          }
        },
        "5844cea605654258be818958d7767c2d": {
          "model_module": "@jupyter-widgets/base",
          "model_name": "LayoutModel",
          "model_module_version": "1.2.0",
          "state": {
            "_model_module": "@jupyter-widgets/base",
            "_model_module_version": "1.2.0",
            "_model_name": "LayoutModel",
            "_view_count": null,
            "_view_module": "@jupyter-widgets/base",
            "_view_module_version": "1.2.0",
            "_view_name": "LayoutView",
            "align_content": null,
            "align_items": null,
            "align_self": null,
            "border": null,
            "bottom": null,
            "display": null,
            "flex": null,
            "flex_flow": null,
            "grid_area": null,
            "grid_auto_columns": null,
            "grid_auto_flow": null,
            "grid_auto_rows": null,
            "grid_column": null,
            "grid_gap": null,
            "grid_row": null,
            "grid_template_areas": null,
            "grid_template_columns": null,
            "grid_template_rows": null,
            "height": null,
            "justify_content": null,
            "justify_items": null,
            "left": null,
            "margin": null,
            "max_height": null,
            "max_width": null,
            "min_height": null,
            "min_width": null,
            "object_fit": null,
            "object_position": null,
            "order": null,
            "overflow": null,
            "overflow_x": null,
            "overflow_y": null,
            "padding": null,
            "right": null,
            "top": null,
            "visibility": null,
            "width": null
          }
        },
        "2b8f61a7d6dd4e09adc86958018f26e0": {
          "model_module": "@jupyter-widgets/controls",
          "model_name": "DescriptionStyleModel",
          "model_module_version": "1.5.0",
          "state": {
            "_model_module": "@jupyter-widgets/controls",
            "_model_module_version": "1.5.0",
            "_model_name": "DescriptionStyleModel",
            "_view_count": null,
            "_view_module": "@jupyter-widgets/base",
            "_view_module_version": "1.2.0",
            "_view_name": "StyleView",
            "description_width": ""
          }
        },
        "ea09d021b77641ca8253de7352806ab5": {
          "model_module": "@jupyter-widgets/base",
          "model_name": "LayoutModel",
          "model_module_version": "1.2.0",
          "state": {
            "_model_module": "@jupyter-widgets/base",
            "_model_module_version": "1.2.0",
            "_model_name": "LayoutModel",
            "_view_count": null,
            "_view_module": "@jupyter-widgets/base",
            "_view_module_version": "1.2.0",
            "_view_name": "LayoutView",
            "align_content": null,
            "align_items": null,
            "align_self": null,
            "border": null,
            "bottom": null,
            "display": null,
            "flex": null,
            "flex_flow": null,
            "grid_area": null,
            "grid_auto_columns": null,
            "grid_auto_flow": null,
            "grid_auto_rows": null,
            "grid_column": null,
            "grid_gap": null,
            "grid_row": null,
            "grid_template_areas": null,
            "grid_template_columns": null,
            "grid_template_rows": null,
            "height": null,
            "justify_content": null,
            "justify_items": null,
            "left": null,
            "margin": null,
            "max_height": null,
            "max_width": null,
            "min_height": null,
            "min_width": null,
            "object_fit": null,
            "object_position": null,
            "order": null,
            "overflow": null,
            "overflow_x": null,
            "overflow_y": null,
            "padding": null,
            "right": null,
            "top": null,
            "visibility": null,
            "width": null
          }
        },
        "ac0cab51b75c47a09154e8f06805638d": {
          "model_module": "@jupyter-widgets/controls",
          "model_name": "ProgressStyleModel",
          "model_module_version": "1.5.0",
          "state": {
            "_model_module": "@jupyter-widgets/controls",
            "_model_module_version": "1.5.0",
            "_model_name": "ProgressStyleModel",
            "_view_count": null,
            "_view_module": "@jupyter-widgets/base",
            "_view_module_version": "1.2.0",
            "_view_name": "StyleView",
            "bar_color": null,
            "description_width": ""
          }
        },
        "e0cfaf53765d4bdf97ef3fd942469e9f": {
          "model_module": "@jupyter-widgets/base",
          "model_name": "LayoutModel",
          "model_module_version": "1.2.0",
          "state": {
            "_model_module": "@jupyter-widgets/base",
            "_model_module_version": "1.2.0",
            "_model_name": "LayoutModel",
            "_view_count": null,
            "_view_module": "@jupyter-widgets/base",
            "_view_module_version": "1.2.0",
            "_view_name": "LayoutView",
            "align_content": null,
            "align_items": null,
            "align_self": null,
            "border": null,
            "bottom": null,
            "display": null,
            "flex": null,
            "flex_flow": null,
            "grid_area": null,
            "grid_auto_columns": null,
            "grid_auto_flow": null,
            "grid_auto_rows": null,
            "grid_column": null,
            "grid_gap": null,
            "grid_row": null,
            "grid_template_areas": null,
            "grid_template_columns": null,
            "grid_template_rows": null,
            "height": null,
            "justify_content": null,
            "justify_items": null,
            "left": null,
            "margin": null,
            "max_height": null,
            "max_width": null,
            "min_height": null,
            "min_width": null,
            "object_fit": null,
            "object_position": null,
            "order": null,
            "overflow": null,
            "overflow_x": null,
            "overflow_y": null,
            "padding": null,
            "right": null,
            "top": null,
            "visibility": null,
            "width": null
          }
        },
        "00aa20cff2174d8a9dcc42ad519c3d0c": {
          "model_module": "@jupyter-widgets/controls",
          "model_name": "DescriptionStyleModel",
          "model_module_version": "1.5.0",
          "state": {
            "_model_module": "@jupyter-widgets/controls",
            "_model_module_version": "1.5.0",
            "_model_name": "DescriptionStyleModel",
            "_view_count": null,
            "_view_module": "@jupyter-widgets/base",
            "_view_module_version": "1.2.0",
            "_view_name": "StyleView",
            "description_width": ""
          }
        },
        "4220b1446ae949f2a5b830f2e7f82a84": {
          "model_module": "@jupyter-widgets/controls",
          "model_name": "HBoxModel",
          "model_module_version": "1.5.0",
          "state": {
            "_dom_classes": [],
            "_model_module": "@jupyter-widgets/controls",
            "_model_module_version": "1.5.0",
            "_model_name": "HBoxModel",
            "_view_count": null,
            "_view_module": "@jupyter-widgets/controls",
            "_view_module_version": "1.5.0",
            "_view_name": "HBoxView",
            "box_style": "",
            "children": [
              "IPY_MODEL_4ac6811675ee4fb5b91303b280b5f43c",
              "IPY_MODEL_3f040cb6dc444a1984f9eb57a67093c8",
              "IPY_MODEL_67279b786c2d4bfea4274b877cfe1692"
            ],
            "layout": "IPY_MODEL_fced51fdce984ddab44ac51d754bc4c4"
          }
        },
        "4ac6811675ee4fb5b91303b280b5f43c": {
          "model_module": "@jupyter-widgets/controls",
          "model_name": "HTMLModel",
          "model_module_version": "1.5.0",
          "state": {
            "_dom_classes": [],
            "_model_module": "@jupyter-widgets/controls",
            "_model_module_version": "1.5.0",
            "_model_name": "HTMLModel",
            "_view_count": null,
            "_view_module": "@jupyter-widgets/controls",
            "_view_module_version": "1.5.0",
            "_view_name": "HTMLView",
            "description": "",
            "description_tooltip": null,
            "layout": "IPY_MODEL_b06b25dc80a44deb8d5a0c8f14492586",
            "placeholder": "​",
            "style": "IPY_MODEL_f11849274f1f49f79cdd7b2d2dd51fab",
            "value": "100%"
          }
        },
        "3f040cb6dc444a1984f9eb57a67093c8": {
          "model_module": "@jupyter-widgets/controls",
          "model_name": "FloatProgressModel",
          "model_module_version": "1.5.0",
          "state": {
            "_dom_classes": [],
            "_model_module": "@jupyter-widgets/controls",
            "_model_module_version": "1.5.0",
            "_model_name": "FloatProgressModel",
            "_view_count": null,
            "_view_module": "@jupyter-widgets/controls",
            "_view_module_version": "1.5.0",
            "_view_name": "ProgressView",
            "bar_style": "success",
            "description": "",
            "description_tooltip": null,
            "layout": "IPY_MODEL_dea6d2fb673641db8aa8fc4d07d28b36",
            "max": 5148,
            "min": 0,
            "orientation": "horizontal",
            "style": "IPY_MODEL_6bf7ba7ce58c4435b6d706a468cd409d",
            "value": 5148
          }
        },
        "67279b786c2d4bfea4274b877cfe1692": {
          "model_module": "@jupyter-widgets/controls",
          "model_name": "HTMLModel",
          "model_module_version": "1.5.0",
          "state": {
            "_dom_classes": [],
            "_model_module": "@jupyter-widgets/controls",
            "_model_module_version": "1.5.0",
            "_model_name": "HTMLModel",
            "_view_count": null,
            "_view_module": "@jupyter-widgets/controls",
            "_view_module_version": "1.5.0",
            "_view_name": "HTMLView",
            "description": "",
            "description_tooltip": null,
            "layout": "IPY_MODEL_03e9241420da4d98ac4d68b04e4a0713",
            "placeholder": "​",
            "style": "IPY_MODEL_287fdda7f4a84926bf418bbd6f40c6c0",
            "value": " 5148/5148 [00:00&lt;00:00, 146854.27it/s]"
          }
        },
        "fced51fdce984ddab44ac51d754bc4c4": {
          "model_module": "@jupyter-widgets/base",
          "model_name": "LayoutModel",
          "model_module_version": "1.2.0",
          "state": {
            "_model_module": "@jupyter-widgets/base",
            "_model_module_version": "1.2.0",
            "_model_name": "LayoutModel",
            "_view_count": null,
            "_view_module": "@jupyter-widgets/base",
            "_view_module_version": "1.2.0",
            "_view_name": "LayoutView",
            "align_content": null,
            "align_items": null,
            "align_self": null,
            "border": null,
            "bottom": null,
            "display": null,
            "flex": null,
            "flex_flow": null,
            "grid_area": null,
            "grid_auto_columns": null,
            "grid_auto_flow": null,
            "grid_auto_rows": null,
            "grid_column": null,
            "grid_gap": null,
            "grid_row": null,
            "grid_template_areas": null,
            "grid_template_columns": null,
            "grid_template_rows": null,
            "height": null,
            "justify_content": null,
            "justify_items": null,
            "left": null,
            "margin": null,
            "max_height": null,
            "max_width": null,
            "min_height": null,
            "min_width": null,
            "object_fit": null,
            "object_position": null,
            "order": null,
            "overflow": null,
            "overflow_x": null,
            "overflow_y": null,
            "padding": null,
            "right": null,
            "top": null,
            "visibility": null,
            "width": null
          }
        },
        "b06b25dc80a44deb8d5a0c8f14492586": {
          "model_module": "@jupyter-widgets/base",
          "model_name": "LayoutModel",
          "model_module_version": "1.2.0",
          "state": {
            "_model_module": "@jupyter-widgets/base",
            "_model_module_version": "1.2.0",
            "_model_name": "LayoutModel",
            "_view_count": null,
            "_view_module": "@jupyter-widgets/base",
            "_view_module_version": "1.2.0",
            "_view_name": "LayoutView",
            "align_content": null,
            "align_items": null,
            "align_self": null,
            "border": null,
            "bottom": null,
            "display": null,
            "flex": null,
            "flex_flow": null,
            "grid_area": null,
            "grid_auto_columns": null,
            "grid_auto_flow": null,
            "grid_auto_rows": null,
            "grid_column": null,
            "grid_gap": null,
            "grid_row": null,
            "grid_template_areas": null,
            "grid_template_columns": null,
            "grid_template_rows": null,
            "height": null,
            "justify_content": null,
            "justify_items": null,
            "left": null,
            "margin": null,
            "max_height": null,
            "max_width": null,
            "min_height": null,
            "min_width": null,
            "object_fit": null,
            "object_position": null,
            "order": null,
            "overflow": null,
            "overflow_x": null,
            "overflow_y": null,
            "padding": null,
            "right": null,
            "top": null,
            "visibility": null,
            "width": null
          }
        },
        "f11849274f1f49f79cdd7b2d2dd51fab": {
          "model_module": "@jupyter-widgets/controls",
          "model_name": "DescriptionStyleModel",
          "model_module_version": "1.5.0",
          "state": {
            "_model_module": "@jupyter-widgets/controls",
            "_model_module_version": "1.5.0",
            "_model_name": "DescriptionStyleModel",
            "_view_count": null,
            "_view_module": "@jupyter-widgets/base",
            "_view_module_version": "1.2.0",
            "_view_name": "StyleView",
            "description_width": ""
          }
        },
        "dea6d2fb673641db8aa8fc4d07d28b36": {
          "model_module": "@jupyter-widgets/base",
          "model_name": "LayoutModel",
          "model_module_version": "1.2.0",
          "state": {
            "_model_module": "@jupyter-widgets/base",
            "_model_module_version": "1.2.0",
            "_model_name": "LayoutModel",
            "_view_count": null,
            "_view_module": "@jupyter-widgets/base",
            "_view_module_version": "1.2.0",
            "_view_name": "LayoutView",
            "align_content": null,
            "align_items": null,
            "align_self": null,
            "border": null,
            "bottom": null,
            "display": null,
            "flex": null,
            "flex_flow": null,
            "grid_area": null,
            "grid_auto_columns": null,
            "grid_auto_flow": null,
            "grid_auto_rows": null,
            "grid_column": null,
            "grid_gap": null,
            "grid_row": null,
            "grid_template_areas": null,
            "grid_template_columns": null,
            "grid_template_rows": null,
            "height": null,
            "justify_content": null,
            "justify_items": null,
            "left": null,
            "margin": null,
            "max_height": null,
            "max_width": null,
            "min_height": null,
            "min_width": null,
            "object_fit": null,
            "object_position": null,
            "order": null,
            "overflow": null,
            "overflow_x": null,
            "overflow_y": null,
            "padding": null,
            "right": null,
            "top": null,
            "visibility": null,
            "width": null
          }
        },
        "6bf7ba7ce58c4435b6d706a468cd409d": {
          "model_module": "@jupyter-widgets/controls",
          "model_name": "ProgressStyleModel",
          "model_module_version": "1.5.0",
          "state": {
            "_model_module": "@jupyter-widgets/controls",
            "_model_module_version": "1.5.0",
            "_model_name": "ProgressStyleModel",
            "_view_count": null,
            "_view_module": "@jupyter-widgets/base",
            "_view_module_version": "1.2.0",
            "_view_name": "StyleView",
            "bar_color": null,
            "description_width": ""
          }
        },
        "03e9241420da4d98ac4d68b04e4a0713": {
          "model_module": "@jupyter-widgets/base",
          "model_name": "LayoutModel",
          "model_module_version": "1.2.0",
          "state": {
            "_model_module": "@jupyter-widgets/base",
            "_model_module_version": "1.2.0",
            "_model_name": "LayoutModel",
            "_view_count": null,
            "_view_module": "@jupyter-widgets/base",
            "_view_module_version": "1.2.0",
            "_view_name": "LayoutView",
            "align_content": null,
            "align_items": null,
            "align_self": null,
            "border": null,
            "bottom": null,
            "display": null,
            "flex": null,
            "flex_flow": null,
            "grid_area": null,
            "grid_auto_columns": null,
            "grid_auto_flow": null,
            "grid_auto_rows": null,
            "grid_column": null,
            "grid_gap": null,
            "grid_row": null,
            "grid_template_areas": null,
            "grid_template_columns": null,
            "grid_template_rows": null,
            "height": null,
            "justify_content": null,
            "justify_items": null,
            "left": null,
            "margin": null,
            "max_height": null,
            "max_width": null,
            "min_height": null,
            "min_width": null,
            "object_fit": null,
            "object_position": null,
            "order": null,
            "overflow": null,
            "overflow_x": null,
            "overflow_y": null,
            "padding": null,
            "right": null,
            "top": null,
            "visibility": null,
            "width": null
          }
        },
        "287fdda7f4a84926bf418bbd6f40c6c0": {
          "model_module": "@jupyter-widgets/controls",
          "model_name": "DescriptionStyleModel",
          "model_module_version": "1.5.0",
          "state": {
            "_model_module": "@jupyter-widgets/controls",
            "_model_module_version": "1.5.0",
            "_model_name": "DescriptionStyleModel",
            "_view_count": null,
            "_view_module": "@jupyter-widgets/base",
            "_view_module_version": "1.2.0",
            "_view_name": "StyleView",
            "description_width": ""
          }
        }
      }
    }
  },
  "cells": [
    {
      "cell_type": "code",
      "execution_count": null,
      "metadata": {
        "id": "yGihDerOx8Lj"
      },
      "outputs": [],
      "source": [
        "import random\n",
        "import pandas as pd\n",
        "import numpy as np\n",
        "import matplotlib.pyplot as plt \n",
        "\n",
        "import torch\n",
        "import torch.nn as nn\n",
        "from torch.nn.modules.batchnorm import BatchNorm2d\n",
        "\n",
        "from torchvision import datasets\n",
        "\n",
        "from torch.utils.data import DataLoader, random_split, SubsetRandomSampler\n",
        "\n",
        "import torchvision\n",
        "from torchvision.transforms import Compose, ToTensor, RandomRotation, RandomHorizontalFlip, ColorJitter, Normalize \n",
        "\n",
        "from torchsummary import summary\n"
      ]
    },
    {
      "cell_type": "code",
      "source": [
        "def set_random_seeds():\n",
        "    random.seed(0)\n",
        "    np.random.seed(0)\n",
        "    torch.manual_seed(0)"
      ],
      "metadata": {
        "id": "lj_j1DmdqvoS"
      },
      "execution_count": null,
      "outputs": []
    },
    {
      "cell_type": "code",
      "source": [
        "device = torch.device(\"cuda\" if torch.cuda.is_available() else \"cpu\")\n",
        "print(device)"
      ],
      "metadata": {
        "id": "K_RyP3gC2-fm",
        "colab": {
          "base_uri": "https://localhost:8080/"
        },
        "outputId": "fcc87707-db73-4c89-b4a5-8356f60296e0"
      },
      "execution_count": null,
      "outputs": [
        {
          "output_type": "stream",
          "name": "stdout",
          "text": [
            "cuda\n"
          ]
        }
      ]
    },
    {
      "cell_type": "code",
      "source": [
        "def test_model(model, test_data_loader, device):\n",
        "    model.eval()\n",
        "    test_num_correct = 0\n",
        "    test_loss = 0.0\n",
        "    total_test_points = 0\n",
        "\n",
        "    for batch_num, (x, y) in enumerate(test_data_loader):\n",
        "    \n",
        "        #move data t device\n",
        "        x, y = x.to(device), y.to(device)\n",
        "    \n",
        "        #make forward pass on val set\n",
        "        y_pred = model(x)\n",
        "        y_pred = y_pred.to(device)\n",
        "\n",
        "        # number of correct predictions\n",
        "        test_num_correct += (torch.argmax(y_pred, axis=1) == y).sum().item()\n",
        "        total_test_points += len(y)\n",
        "    \n",
        "    print(f'Testing Accuracy = {test_num_correct/total_test_points}')"
      ],
      "metadata": {
        "id": "G8rATlnnnWMz"
      },
      "execution_count": null,
      "outputs": []
    },
    {
      "cell_type": "code",
      "source": [
        "def train_model(model, training_data_loader, validation_data_loader, epochs, loss_fn, optimiser, scheduler, device, model_name):\n",
        "\n",
        "    #to track loss through the epoch \n",
        "    train_loss_per_epoch = []\n",
        "    val_loss_per_epoch = []\n",
        "\n",
        "    best_loss = float('inf')\n",
        "\n",
        "    for epoch in range(epochs):\n",
        "\n",
        "        print(f'################################### Epoch {epoch+1} ###################################')\n",
        "\n",
        "        train_loss = 0\n",
        "        validation_loss = 0\n",
        "\n",
        "        train_examples = 0\n",
        "        validation_examples = 0\n",
        "        \n",
        "        # Train\n",
        "        model.train()\n",
        "        train_num_correct = 0\n",
        "        for batch_num, (x, y) in enumerate(training_data_loader):\n",
        "            \n",
        "            #zero grad\n",
        "            optimiser.zero_grad()\n",
        "            \n",
        "            #move the data to the device \n",
        "            x, y = x.to(device), y.to(device)\n",
        "            train_examples += len(y)\n",
        "\n",
        "            #forward pass\n",
        "            y_pred = model(x)\n",
        "            y_pred = y_pred.to(device)\n",
        "\n",
        "            train_num_correct += (torch.argmax(y_pred, axis=1) == y).sum().item()\n",
        "\n",
        "            #calculate the loss\n",
        "            loss = loss_fn(y_pred, y.long())\n",
        "            train_loss += loss.item()\n",
        "\n",
        "            #back propagation\n",
        "            loss.backward()\n",
        "\n",
        "            #update parameters using the optimiser        \n",
        "            optimiser.step()\n",
        "\n",
        "        train_loss_per_epoch.append(train_loss/train_examples)\n",
        "\n",
        "        # Validate\n",
        "        model.eval()\n",
        "        val_num_correct = 0\n",
        "        \n",
        "        for batch_num, (x, y) in enumerate(validation_data_loader):\n",
        "            \n",
        "            #move data t device\n",
        "            x, y = x.to(device), y.to(device)\n",
        "            validation_examples += len(y)\n",
        "\n",
        "            #make forward pass on val set\n",
        "            y_pred = model(x)\n",
        "            y_pred = y_pred.to(device)\n",
        "\n",
        "            # number of correct predictions\n",
        "            val_num_correct += (torch.argmax(y_pred, axis=1) == y).sum().item()\n",
        "            \n",
        "            #validation loss calculation\n",
        "            val_loss_batch = loss_fn(y_pred, y.long())\n",
        "            validation_loss += val_loss_batch.item()\n",
        "\n",
        "            if val_loss_batch < best_loss:\n",
        "                best_loss = val_loss_batch\n",
        "                torch.save(model, model_name)\n",
        "\n",
        "        val_loss_per_epoch.append(validation_loss/validation_examples)\n",
        "\n",
        "        scheduler.step(validation_loss/validation_examples)\n",
        "\n",
        "        print(f'Training Loss = {train_loss/train_examples}\\\n",
        "        \\tTraining Accuracy = {train_num_correct/train_examples}\\\n",
        "        \\tValidation_loss = {validation_loss/validation_examples}\\\n",
        "        \\tValidation Accuracy = { val_num_correct/validation_examples}')\n",
        "\n",
        "    return train_loss_per_epoch, val_loss_per_epoch"
      ],
      "metadata": {
        "id": "shAf8xmc9mgJ"
      },
      "execution_count": null,
      "outputs": []
    },
    {
      "cell_type": "code",
      "source": [
        "def draw_loss_curves(train_loss_per_epoch, val_loss_per_epoch):\n",
        "    plt.plot(train_loss_per_epoch, label='training loss')\n",
        "    plt.plot(val_loss_per_epoch, label='validation loss')\n",
        "    plt.title('Negative Log Loss')\n",
        "    plt.ylabel('Log Loss')\n",
        "    plt.xlabel('No. of Epochs')\n",
        "    plt.legend()"
      ],
      "metadata": {
        "id": "w1yAzG39g5Cp"
      },
      "execution_count": null,
      "outputs": []
    },
    {
      "cell_type": "code",
      "source": [
        "training_data = datasets.FashionMNIST(\n",
        "    root=\"data\",\n",
        "    train=True,\n",
        "    download=True,\n",
        "    transform=ToTensor()\n",
        ")\n",
        "\n",
        "test_data = datasets.FashionMNIST(\n",
        "    root=\"data\",\n",
        "    train=False,\n",
        "    download=True,\n",
        "    transform=ToTensor()\n",
        ")"
      ],
      "metadata": {
        "id": "ueg5TO95ynZw"
      },
      "execution_count": null,
      "outputs": []
    },
    {
      "cell_type": "code",
      "source": [
        "##splitting training data to train and validation set\n",
        "set_random_seeds()\n",
        "train_data, validation_data = random_split(training_data, [50000,10000])"
      ],
      "metadata": {
        "id": "bkOwten-2v1m"
      },
      "execution_count": null,
      "outputs": []
    },
    {
      "cell_type": "code",
      "source": [
        "image, label = training_data[0]\n",
        "print('Length of training set:' + str(len(training_data)))\n",
        "print('Length of testing set:' + str(len(test_data)))\n",
        "print(image.shape, label)\n",
        "print(label)\n",
        "print(training_data.classes)"
      ],
      "metadata": {
        "colab": {
          "base_uri": "https://localhost:8080/"
        },
        "id": "hwuQ9nEyyuLH",
        "outputId": "9ba4bd8e-d029-4ddf-abaa-93cc334b6393"
      },
      "execution_count": null,
      "outputs": [
        {
          "output_type": "stream",
          "name": "stdout",
          "text": [
            "Length of training set:60000\n",
            "Length of testing set:10000\n",
            "torch.Size([1, 28, 28]) 9\n",
            "9\n",
            "['T-shirt/top', 'Trouser', 'Pullover', 'Dress', 'Coat', 'Sandal', 'Shirt', 'Sneaker', 'Bag', 'Ankle boot']\n"
          ]
        }
      ]
    },
    {
      "cell_type": "code",
      "source": [
        "BATCH_SIZE = 512\n",
        "NUM_CLASSES = len(training_data.classes)\n",
        "\n",
        "in_features = 1 # grayscale channels\n",
        "\n",
        "learning_rate = 1e-4\n",
        "weight_decay = 5e-5\n",
        "momentum = 0.9"
      ],
      "metadata": {
        "id": "SYgK9SEs1qzA"
      },
      "execution_count": null,
      "outputs": []
    },
    {
      "cell_type": "code",
      "source": [
        "set_random_seeds()\n",
        "train_dataloader = DataLoader(train_data, batch_size = BATCH_SIZE, shuffle=True)\n",
        "test_dataloader = DataLoader(test_data, batch_size = BATCH_SIZE)\n",
        "validation_dataloader = DataLoader(validation_data, batch_size = BATCH_SIZE)"
      ],
      "metadata": {
        "id": "_YFRBIGk2s5Z"
      },
      "execution_count": null,
      "outputs": []
    },
    {
      "cell_type": "markdown",
      "source": [
        "#Model 1\n",
        "\n",
        "## Creating a basic CNN model "
      ],
      "metadata": {
        "id": "8bN_I5CCK48-"
      }
    },
    {
      "cell_type": "code",
      "source": [
        "from torch.nn.modules.batchnorm import BatchNorm2d\n",
        "class MyCnnModel_1(nn.Module):\n",
        "    def __init__(self, num_classes, batch_size):\n",
        "        super(MyCnnModel_1, self).__init__()\n",
        "        self.convolutional_sequence_1 = nn.Sequential(\n",
        "            nn.Conv2d(in_channels=1, out_channels=8, kernel_size=3, padding=1),\n",
        "            nn.BatchNorm2d(8),\n",
        "            nn.ReLU(),\n",
        "            nn.MaxPool2d(kernel_size=(2,2), stride=(2,2))\n",
        "        )\n",
        "\n",
        "        self.flattening_layer = nn.Flatten()\n",
        "\n",
        "        self.output_layer = nn.Sequential(\n",
        "            nn.Linear(in_features=1568, out_features=num_classes),\n",
        "            nn.Softmax(dim=1)\n",
        "        )\n",
        "\n",
        "    def forward(self, x):\n",
        "        out = self.convolutional_sequence_1(x)\n",
        "        #print('After Conv layer: {}'.format(out.shape))\n",
        "        out = self.flattening_layer(out)\n",
        "        #print('After Flattening layer: {}'.format(out.shape))\n",
        "        out = self.output_layer(out)\n",
        "        #print('After O/P layer: {}'.format(out.shape))\n",
        "        return out"
      ],
      "metadata": {
        "id": "vytUIGHpy3Q5"
      },
      "execution_count": null,
      "outputs": []
    },
    {
      "cell_type": "code",
      "source": [
        "set_random_seeds()\n",
        "model = MyCnnModel_1(NUM_CLASSES, BATCH_SIZE)\n",
        "model = model.to(device)\n",
        "\n",
        "criterion = nn.CrossEntropyLoss()\n",
        "optimiser = torch.optim.Adam(model.parameters(), lr = learning_rate)\n",
        "scheduler = torch.optim.lr_scheduler.ReduceLROnPlateau(optimizer=optimiser, patience=2, factor=0.8, verbose=True)\n",
        "\n",
        "for parameter in model.parameters():\n",
        "    print(parameter.data.shape)"
      ],
      "metadata": {
        "id": "muwqzs2g5mTn",
        "colab": {
          "base_uri": "https://localhost:8080/"
        },
        "outputId": "97e38340-faf9-4bc5-a227-7c38b9e2939f"
      },
      "execution_count": null,
      "outputs": [
        {
          "output_type": "stream",
          "name": "stdout",
          "text": [
            "torch.Size([8, 1, 3, 3])\n",
            "torch.Size([8])\n",
            "torch.Size([8])\n",
            "torch.Size([8])\n",
            "torch.Size([10, 1568])\n",
            "torch.Size([10])\n"
          ]
        }
      ]
    },
    {
      "cell_type": "code",
      "source": [
        "num_epochs = 20\n",
        "model_name = 'model_1'\n",
        "train_loss, validation_loss = train_model(model, train_dataloader, validation_dataloader, num_epochs, criterion, optimiser, scheduler, device, model_name)"
      ],
      "metadata": {
        "colab": {
          "base_uri": "https://localhost:8080/"
        },
        "id": "Awx9XIQsbEqJ",
        "outputId": "08e1c2f8-5ca5-416b-e19b-84636c70c1e7"
      },
      "execution_count": null,
      "outputs": [
        {
          "output_type": "stream",
          "name": "stdout",
          "text": [
            "################################### Epoch 1 ###################################\n",
            "Training Loss = 0.0040718541955947875        \tTraining Accuracy = 0.51788        \tValidation_loss = 0.0038266146659851072        \tValidation Accuracy = 0.6354\n",
            "################################### Epoch 2 ###################################\n",
            "Training Loss = 0.003592291045188904        \tTraining Accuracy = 0.70878        \tValidation_loss = 0.003558080017566681        \tValidation Accuracy = 0.7491\n",
            "################################### Epoch 3 ###################################\n",
            "Training Loss = 0.0034284815764427184        \tTraining Accuracy = 0.76726        \tValidation_loss = 0.003468827283382416        \tValidation Accuracy = 0.7701\n",
            "################################### Epoch 4 ###################################\n",
            "Training Loss = 0.0033638518285751345        \tTraining Accuracy = 0.78638        \tValidation_loss = 0.003409080171585083        \tValidation Accuracy = 0.7991\n",
            "################################### Epoch 5 ###################################\n",
            "Training Loss = 0.003302409698963165        \tTraining Accuracy = 0.81756        \tValidation_loss = 0.0033536193132400515        \tValidation Accuracy = 0.8226\n",
            "################################### Epoch 6 ###################################\n",
            "Training Loss = 0.0032637156963348387        \tTraining Accuracy = 0.8321        \tValidation_loss = 0.0033239590883255006        \tValidation Accuracy = 0.8328\n",
            "################################### Epoch 7 ###################################\n",
            "Training Loss = 0.0032384921956062317        \tTraining Accuracy = 0.84068        \tValidation_loss = 0.003304080855846405        \tValidation Accuracy = 0.8389\n",
            "################################### Epoch 8 ###################################\n",
            "Training Loss = 0.0032199517369270324        \tTraining Accuracy = 0.84766        \tValidation_loss = 0.003289192259311676        \tValidation Accuracy = 0.8427\n",
            "################################### Epoch 9 ###################################\n",
            "Training Loss = 0.003204988751411438        \tTraining Accuracy = 0.85276        \tValidation_loss = 0.0032754241704940797        \tValidation Accuracy = 0.8485\n",
            "################################### Epoch 10 ###################################\n",
            "Training Loss = 0.003192632212638855        \tTraining Accuracy = 0.85806        \tValidation_loss = 0.003265334689617157        \tValidation Accuracy = 0.8516\n",
            "################################### Epoch 11 ###################################\n",
            "Training Loss = 0.0031824822521209716        \tTraining Accuracy = 0.8609        \tValidation_loss = 0.0032561290979385375        \tValidation Accuracy = 0.8552\n",
            "################################### Epoch 12 ###################################\n",
            "Training Loss = 0.0031731644105911254        \tTraining Accuracy = 0.86478        \tValidation_loss = 0.003247936487197876        \tValidation Accuracy = 0.8578\n",
            "################################### Epoch 13 ###################################\n",
            "Training Loss = 0.00316496169090271        \tTraining Accuracy = 0.86748        \tValidation_loss = 0.003240636205673218        \tValidation Accuracy = 0.8617\n",
            "################################### Epoch 14 ###################################\n",
            "Training Loss = 0.003158139851093292        \tTraining Accuracy = 0.87024        \tValidation_loss = 0.0032347770571708677        \tValidation Accuracy = 0.8627\n",
            "################################### Epoch 15 ###################################\n",
            "Training Loss = 0.0031515473747253417        \tTraining Accuracy = 0.87318        \tValidation_loss = 0.003229025709629059        \tValidation Accuracy = 0.8644\n",
            "################################### Epoch 16 ###################################\n",
            "Training Loss = 0.0031457307982444764        \tTraining Accuracy = 0.8758        \tValidation_loss = 0.00322515150308609        \tValidation Accuracy = 0.8655\n",
            "################################### Epoch 17 ###################################\n",
            "Training Loss = 0.0031402577567100523        \tTraining Accuracy = 0.87736        \tValidation_loss = 0.0032195883631706236        \tValidation Accuracy = 0.8671\n",
            "################################### Epoch 18 ###################################\n",
            "Training Loss = 0.003135719451904297        \tTraining Accuracy = 0.87872        \tValidation_loss = 0.0032156743049621584        \tValidation Accuracy = 0.8682\n",
            "################################### Epoch 19 ###################################\n",
            "Training Loss = 0.0031308733224868776        \tTraining Accuracy = 0.88094        \tValidation_loss = 0.0032113746762275695        \tValidation Accuracy = 0.87\n",
            "################################### Epoch 20 ###################################\n",
            "Training Loss = 0.003126976215839386        \tTraining Accuracy = 0.8829        \tValidation_loss = 0.0032077413082122804        \tValidation Accuracy = 0.8728\n"
          ]
        }
      ]
    },
    {
      "cell_type": "code",
      "source": [
        "model = torch.load(model_name)\n",
        "test_model(model, test_dataloader, device)"
      ],
      "metadata": {
        "colab": {
          "base_uri": "https://localhost:8080/"
        },
        "id": "ixhJOyWGf4Ky",
        "outputId": "7abad4fe-8270-48c4-b31e-b4881440a008"
      },
      "execution_count": null,
      "outputs": [
        {
          "output_type": "stream",
          "name": "stdout",
          "text": [
            "Testing Accuracy = 0.868\n"
          ]
        }
      ]
    },
    {
      "cell_type": "code",
      "source": [
        "draw_loss_curves(train_loss, validation_loss)"
      ],
      "metadata": {
        "colab": {
          "base_uri": "https://localhost:8080/",
          "height": 295
        },
        "id": "da7zjOebkOtl",
        "outputId": "d597e91a-cb87-46ea-cf39-0ef5b14b2ecd"
      },
      "execution_count": null,
      "outputs": [
        {
          "output_type": "display_data",
          "data": {
            "text/plain": [
              "<Figure size 432x288 with 1 Axes>"
            ],
            "image/png": "[encoded data removed]"
          },
          "metadata": {
            "needs_background": "light"
          }
        }
      ]
    },
    {
      "cell_type": "markdown",
      "source": [
        "#Model 2\n",
        "\n",
        "## Using Image Transforms In Dataset\n",
        "\n",
        "A basic Convolutional Network with 1 convolutional layer and 1 fully connected layer has an accuracy of 86.8%. We will consider that our baseline model. \n",
        "\n",
        "Before changing the wights initialisation strategy or optimiser or network, we shall play around with few other things. \n",
        "Changing the dataset using some basic transforms which are common to use on an image dataset. hopefully this increases the variety in data and reduces overfitting, if thats whats happening in the model. "
      ],
      "metadata": {
        "id": "Tq5QWapMmfs9"
      }
    },
    {
      "cell_type": "code",
      "source": [
        "!rm -rf data/"
      ],
      "metadata": {
        "id": "rCd1i0Lqpl2P"
      },
      "execution_count": null,
      "outputs": []
    },
    {
      "cell_type": "code",
      "source": [
        "training_data_with_transforms= datasets.FashionMNIST(\n",
        "    root=\"data\",\n",
        "    train=True,\n",
        "    download=True,\n",
        "    transform=Compose([\n",
        "        RandomRotation(20), \n",
        "        RandomHorizontalFlip(0.5), \n",
        "        ColorJitter(0.5), \n",
        "        ToTensor(),\n",
        "        Normalize(mean = (0.485),\n",
        "                  std= (0.229)) \n",
        "    ])\n",
        ")\n",
        "\n",
        "test_data_with_transforms = datasets.FashionMNIST(\n",
        "    root=\"data\",\n",
        "    train=False,\n",
        "    download=True,\n",
        "    transform=Compose([\n",
        "        ToTensor(),\n",
        "        Normalize(mean = (0.485),\n",
        "                  std= (0.229))\n",
        "    ])\n",
        ")"
      ],
      "metadata": {
        "colab": {
          "base_uri": "https://localhost:8080/",
          "height": 423,
          "referenced_widgets": [
            "ae7b862ccd154cddbe28d13b52ae5506",
            "9f410be993c34bc892868baee01f693f",
            "149ec7efd13f4866adc115ffe4d6d646",
            "48f37b2e42a446a38c6e4025999a40fa",
            "0efb7a83ce11453e9a96510df97c7681",
            "629b582d95b64722b55f921960aeb41c",
            "1b1b03c65e274cd7a85f3df63812c277",
            "16cc0eabd46545c5ab1843182550d550",
            "1410f10acb924e7ea28d88975569c846",
            "dadecc4d83504618a1faf7be5ec7cb1c",
            "e03ec2cbb5ea4eac860a5b3beac9a1f8",
            "fdb0f8e0a6924a709c37900bc0ab0aed",
            "fda0ce279e144bc393fa47f3a543793f",
            "c7461188f91245c9ad942e80d41acaae",
            "24c02887d6484724a5f5dc8c24dd34f1",
            "469b94b2db6f4096b915e946e837e673",
            "b86c588bc1f34cd2a2827ee6a3f2cf66",
            "700e2f583f784f5d9e8bd3abcef1fbdd",
            "cd84e52e46ce4053ae21e86844fe65e1",
            "245a13140c8e458dac43d776f7a32ede",
            "925f90abb30842b1955bba584fa8b9fd",
            "bddb476a738b477f83c9a00955fef20b",
            "073e3e1a71244d25a32d37c881505b7d",
            "4bcb4627605c4ce18645773d35456967",
            "2906f7b807c549969d07fe21e9fd64a1",
            "2f8a2467488e41f8bf39e532bb64a3da",
            "19ffdf1cacab4547ac006a034831eac2",
            "5844cea605654258be818958d7767c2d",
            "2b8f61a7d6dd4e09adc86958018f26e0",
            "ea09d021b77641ca8253de7352806ab5",
            "ac0cab51b75c47a09154e8f06805638d",
            "e0cfaf53765d4bdf97ef3fd942469e9f",
            "00aa20cff2174d8a9dcc42ad519c3d0c",
            "4220b1446ae949f2a5b830f2e7f82a84",
            "4ac6811675ee4fb5b91303b280b5f43c",
            "3f040cb6dc444a1984f9eb57a67093c8",
            "67279b786c2d4bfea4274b877cfe1692",
            "fced51fdce984ddab44ac51d754bc4c4",
            "b06b25dc80a44deb8d5a0c8f14492586",
            "f11849274f1f49f79cdd7b2d2dd51fab",
            "dea6d2fb673641db8aa8fc4d07d28b36",
            "6bf7ba7ce58c4435b6d706a468cd409d",
            "03e9241420da4d98ac4d68b04e4a0713",
            "287fdda7f4a84926bf418bbd6f40c6c0"
          ]
        },
        "id": "NfKlwt5mys81",
        "outputId": "532ea745-2b8c-4c9b-85b2-23734c3e061d"
      },
      "execution_count": null,
      "outputs": [
        {
          "output_type": "stream",
          "name": "stdout",
          "text": [
            "Downloading http://fashion-mnist.s3-website.eu-central-1.amazonaws.com/train-images-idx3-ubyte.gz\n",
            "Downloading http://fashion-mnist.s3-website.eu-central-1.amazonaws.com/train-images-idx3-ubyte.gz to data/FashionMNIST/raw/train-images-idx3-ubyte.gz\n"
          ]
        },
        {
          "output_type": "display_data",
          "data": {
            "text/plain": [
              "  0%|          | 0/26421880 [00:00<?, ?it/s]"
            ],
            "application/vnd.jupyter.widget-view+json": {
              "version_major": 2,
              "version_minor": 0,
              "model_id": "ae7b862ccd154cddbe28d13b52ae5506"
            }
          },
          "metadata": {}
        },
        {
          "output_type": "stream",
          "name": "stdout",
          "text": [
            "Extracting data/FashionMNIST/raw/train-images-idx3-ubyte.gz to data/FashionMNIST/raw\n",
            "\n",
            "Downloading http://fashion-mnist.s3-website.eu-central-1.amazonaws.com/train-labels-idx1-ubyte.gz\n",
            "Downloading http://fashion-mnist.s3-website.eu-central-1.amazonaws.com/train-labels-idx1-ubyte.gz to data/FashionMNIST/raw/train-labels-idx1-ubyte.gz\n"
          ]
        },
        {
          "output_type": "display_data",
          "data": {
            "text/plain": [
              "  0%|          | 0/29515 [00:00<?, ?it/s]"
            ],
            "application/vnd.jupyter.widget-view+json": {
              "version_major": 2,
              "version_minor": 0,
              "model_id": "fdb0f8e0a6924a709c37900bc0ab0aed"
            }
          },
          "metadata": {}
        },
        {
          "output_type": "stream",
          "name": "stdout",
          "text": [
            "Extracting data/FashionMNIST/raw/train-labels-idx1-ubyte.gz to data/FashionMNIST/raw\n",
            "\n",
            "Downloading http://fashion-mnist.s3-website.eu-central-1.amazonaws.com/t10k-images-idx3-ubyte.gz\n",
            "Downloading http://fashion-mnist.s3-website.eu-central-1.amazonaws.com/t10k-images-idx3-ubyte.gz to data/FashionMNIST/raw/t10k-images-idx3-ubyte.gz\n"
          ]
        },
        {
          "output_type": "display_data",
          "data": {
            "text/plain": [
              "  0%|          | 0/4422102 [00:00<?, ?it/s]"
            ],
            "application/vnd.jupyter.widget-view+json": {
              "version_major": 2,
              "version_minor": 0,
              "model_id": "073e3e1a71244d25a32d37c881505b7d"
            }
          },
          "metadata": {}
        },
        {
          "output_type": "stream",
          "name": "stdout",
          "text": [
            "Extracting data/FashionMNIST/raw/t10k-images-idx3-ubyte.gz to data/FashionMNIST/raw\n",
            "\n",
            "Downloading http://fashion-mnist.s3-website.eu-central-1.amazonaws.com/t10k-labels-idx1-ubyte.gz\n",
            "Downloading http://fashion-mnist.s3-website.eu-central-1.amazonaws.com/t10k-labels-idx1-ubyte.gz to data/FashionMNIST/raw/t10k-labels-idx1-ubyte.gz\n"
          ]
        },
        {
          "output_type": "display_data",
          "data": {
            "text/plain": [
              "  0%|          | 0/5148 [00:00<?, ?it/s]"
            ],
            "application/vnd.jupyter.widget-view+json": {
              "version_major": 2,
              "version_minor": 0,
              "model_id": "4220b1446ae949f2a5b830f2e7f82a84"
            }
          },
          "metadata": {}
        },
        {
          "output_type": "stream",
          "name": "stdout",
          "text": [
            "Extracting data/FashionMNIST/raw/t10k-labels-idx1-ubyte.gz to data/FashionMNIST/raw\n",
            "\n"
          ]
        }
      ]
    },
    {
      "cell_type": "code",
      "source": [
        "set_random_seeds()\n",
        "train_data_with_transforms, validation_data_with_transforms = random_split(training_data_with_transforms, [50000,10000])\n",
        "num_workers = 8 if device == 'cuda' else 0\n",
        "\n",
        "set_random_seeds()\n",
        "train_data_with_transforms_data_loader = DataLoader(train_data_with_transforms, num_workers = num_workers, batch_size = BATCH_SIZE, shuffle=True)\n",
        "test_data_with_transforms_data_loader = DataLoader(test_data_with_transforms, num_workers = num_workers, batch_size = BATCH_SIZE)\n",
        "validation_data_with_transforms_data_loader = DataLoader(validation_data_with_transforms, num_workers = num_workers, batch_size = BATCH_SIZE)"
      ],
      "metadata": {
        "id": "AZf8tvT3TyN2"
      },
      "execution_count": null,
      "outputs": []
    },
    {
      "cell_type": "code",
      "source": [
        "set_random_seeds()\n",
        "model = MyCnnModel_1(NUM_CLASSES, BATCH_SIZE)\n",
        "model = model.to(device)\n",
        "\n",
        "criterion = nn.CrossEntropyLoss()\n",
        "optimiser = torch.optim.Adam(model.parameters(), lr = learning_rate)\n",
        "scheduler = torch.optim.lr_scheduler.ReduceLROnPlateau(optimizer=optimiser, patience=2, factor=0.8, verbose=True)"
      ],
      "metadata": {
        "id": "WlRCVDbE4Lzr"
      },
      "execution_count": null,
      "outputs": []
    },
    {
      "cell_type": "code",
      "source": [
        "num_epochs = 20\n",
        "model_name = 'model_2'\n",
        "train_loss, validation_loss = train_model(model, train_data_with_transforms_data_loader, validation_data_with_transforms_data_loader, num_epochs, criterion, optimiser, scheduler, device, model_name)"
      ],
      "metadata": {
        "colab": {
          "base_uri": "https://localhost:8080/"
        },
        "id": "-OyRwDKK4P3R",
        "outputId": "57dede0d-59fa-4dfb-95f4-012e644baa55"
      },
      "execution_count": null,
      "outputs": [
        {
          "output_type": "stream",
          "name": "stdout",
          "text": [
            "################################### Epoch 1 ###################################\n",
            "Training Loss = 0.004209715433120728        \tTraining Accuracy = 0.40414        \tValidation_loss = 0.004015577864646912        \tValidation Accuracy = 0.596\n",
            "################################### Epoch 2 ###################################\n",
            "Training Loss = 0.0037804056072235108        \tTraining Accuracy = 0.65368        \tValidation_loss = 0.0037648385763168336        \tValidation Accuracy = 0.6779\n",
            "################################### Epoch 3 ###################################\n",
            "Training Loss = 0.003619829423427582        \tTraining Accuracy = 0.69776        \tValidation_loss = 0.003654056477546692        \tValidation Accuracy = 0.7056\n",
            "################################### Epoch 4 ###################################\n",
            "Training Loss = 0.0035414355421066286        \tTraining Accuracy = 0.71846        \tValidation_loss = 0.003586379849910736        \tValidation Accuracy = 0.7234\n",
            "################################### Epoch 5 ###################################\n",
            "Training Loss = 0.003492393915653229        \tTraining Accuracy = 0.73216        \tValidation_loss = 0.003552733600139618        \tValidation Accuracy = 0.7309\n",
            "################################### Epoch 6 ###################################\n",
            "Training Loss = 0.003458626146316528        \tTraining Accuracy = 0.74104        \tValidation_loss = 0.003525328779220581        \tValidation Accuracy = 0.7386\n",
            "################################### Epoch 7 ###################################\n",
            "Training Loss = 0.003434240369796753        \tTraining Accuracy = 0.7487        \tValidation_loss = 0.003500044810771942        \tValidation Accuracy = 0.7469\n",
            "################################### Epoch 8 ###################################\n",
            "Training Loss = 0.003414617030620575        \tTraining Accuracy = 0.75294        \tValidation_loss = 0.003485221815109253        \tValidation Accuracy = 0.7503\n",
            "################################### Epoch 9 ###################################\n",
            "Training Loss = 0.0033994308352470397        \tTraining Accuracy = 0.75822        \tValidation_loss = 0.003469785749912262        \tValidation Accuracy = 0.7555\n",
            "################################### Epoch 10 ###################################\n",
            "Training Loss = 0.0033885460042953493        \tTraining Accuracy = 0.76236        \tValidation_loss = 0.003460343551635742        \tValidation Accuracy = 0.7564\n",
            "################################### Epoch 11 ###################################\n",
            "Training Loss = 0.003375746247768402        \tTraining Accuracy = 0.76536        \tValidation_loss = 0.00344744530916214        \tValidation Accuracy = 0.763\n",
            "################################### Epoch 12 ###################################\n",
            "Training Loss = 0.0033689402198791504        \tTraining Accuracy = 0.76716        \tValidation_loss = 0.0034415921926498412        \tValidation Accuracy = 0.7631\n",
            "################################### Epoch 13 ###################################\n",
            "Training Loss = 0.0033595257234573365        \tTraining Accuracy = 0.77154        \tValidation_loss = 0.0034317421317100524        \tValidation Accuracy = 0.7684\n",
            "################################### Epoch 14 ###################################\n",
            "Training Loss = 0.003352560293674469        \tTraining Accuracy = 0.77332        \tValidation_loss = 0.003428024685382843        \tValidation Accuracy = 0.768\n",
            "################################### Epoch 15 ###################################\n",
            "Training Loss = 0.0033472760105133057        \tTraining Accuracy = 0.77526        \tValidation_loss = 0.0034263920426368714        \tValidation Accuracy = 0.7675\n",
            "################################### Epoch 16 ###################################\n",
            "Training Loss = 0.003341110336780548        \tTraining Accuracy = 0.7765        \tValidation_loss = 0.0034145242691040038        \tValidation Accuracy = 0.7711\n",
            "################################### Epoch 17 ###################################\n",
            "Training Loss = 0.0033366075587272642        \tTraining Accuracy = 0.77854        \tValidation_loss = 0.003412845289707184        \tValidation Accuracy = 0.7737\n",
            "################################### Epoch 18 ###################################\n",
            "Training Loss = 0.003330905838012695        \tTraining Accuracy = 0.78054        \tValidation_loss = 0.0034063513040542602        \tValidation Accuracy = 0.7744\n",
            "################################### Epoch 19 ###################################\n",
            "Training Loss = 0.003327448174953461        \tTraining Accuracy = 0.78196        \tValidation_loss = 0.0034051318287849426        \tValidation Accuracy = 0.7742\n",
            "################################### Epoch 20 ###################################\n",
            "Training Loss = 0.0033223673820495605        \tTraining Accuracy = 0.78178        \tValidation_loss = 0.0033992486476898194        \tValidation Accuracy = 0.7768\n"
          ]
        }
      ]
    },
    {
      "cell_type": "code",
      "source": [
        "model = torch.load(model_name)\n",
        "test_model(model, test_data_with_transforms_data_loader, device)"
      ],
      "metadata": {
        "colab": {
          "base_uri": "https://localhost:8080/"
        },
        "id": "Dr6iSpTV4b0H",
        "outputId": "a5ef4405-9ab6-4ad9-8ed3-d46e433f55b3"
      },
      "execution_count": null,
      "outputs": [
        {
          "output_type": "stream",
          "name": "stdout",
          "text": [
            "Testing Accuracy = 0.7915\n"
          ]
        }
      ]
    },
    {
      "cell_type": "code",
      "source": [
        "draw_loss_curves(train_loss, validation_loss)"
      ],
      "metadata": {
        "colab": {
          "base_uri": "https://localhost:8080/",
          "height": 295
        },
        "id": "e5GHyDAs7QOO",
        "outputId": "af52f020-a670-4975-e8e6-09c52784f6a8"
      },
      "execution_count": null,
      "outputs": [
        {
          "output_type": "display_data",
          "data": {
            "text/plain": [
              "<Figure size 432x288 with 1 Axes>"
            ],
            "image/png": "[encoded data removed]"
          },
          "metadata": {
            "needs_background": "light"
          }
        }
      ]
    },
    {
      "cell_type": "markdown",
      "source": [
        "Clearly this model does not pass our baseline model. \n",
        "Maybe a simple model with just 1 convolutional layer and 1 fcn is not powerful enough to take advantage of a bigger dataset. So lets try improving our network depth. "
      ],
      "metadata": {
        "id": "6KCF22V27UjC"
      }
    },
    {
      "cell_type": "markdown",
      "source": [
        "#Model 3"
      ],
      "metadata": {
        "id": "XzmKxd-fdfqU"
      }
    },
    {
      "cell_type": "code",
      "source": [
        "class MyCnnModel_2(nn.Module):\n",
        "    def __init__(self, num_classes, batch_size, fully_connected_layer_activation_function):\n",
        "        super().__init__()\n",
        "        self.convolutional_sequence_1 = nn.Sequential(\n",
        "            nn.Conv2d(in_channels=1, out_channels=8, kernel_size=3, padding=1),#neurons=8*3*3\n",
        "            nn.BatchNorm2d(8),\n",
        "            nn.ReLU()\n",
        "        )\n",
        "\n",
        "        self.convolutional_sequence_2 = nn.Sequential(\n",
        "            nn.Conv2d(in_channels=8, out_channels=16, kernel_size=3, padding=1),#neurons=16*3*3\n",
        "            nn.BatchNorm2d(16),\n",
        "            nn.ReLU()\n",
        "        )\n",
        "\n",
        "        self.convolutional_sequence_3 = nn.Sequential(\n",
        "            nn.Conv2d(in_channels=16, out_channels=32, kernel_size=3, padding=1),#neurons=32*3*3\n",
        "            nn.BatchNorm2d(32),\n",
        "            nn.ReLU()\n",
        "        )\n",
        "\n",
        "        self.convolutional_sequence_4 = nn.Sequential(\n",
        "            nn.Conv2d(in_channels=32, out_channels=64, kernel_size=3, padding=1),\n",
        "            nn.BatchNorm2d(64),\n",
        "            nn.ReLU(),\n",
        "            nn.MaxPool2d(kernel_size=(2,2), stride=(2,2))\n",
        "        )\n",
        "\n",
        "        self.flattening_layer = nn.Flatten()\n",
        "\n",
        "        self.fully_connected_sequence_1 = nn.Sequential(\n",
        "            nn.Linear(in_features=12544, out_features=256),\n",
        "            nn.Dropout(p=0.2),\n",
        "            fully_connected_layer_activation_function\n",
        "        )\n",
        "\n",
        "        self.fully_connected_sequence_2 = nn.Sequential(\n",
        "            nn.Linear(in_features=256, out_features=128),\n",
        "            nn.Dropout(p=0.2),\n",
        "            fully_connected_layer_activation_function\n",
        "        )\n",
        "\n",
        "        self.fully_connected_sequence_3 = nn.Sequential(\n",
        "            nn.Linear(in_features=128, out_features=64),\n",
        "            nn.Dropout(p=0.2),\n",
        "            fully_connected_layer_activation_function\n",
        "        )\n",
        "\n",
        "        self.output_layer = nn.Sequential(\n",
        "            nn.Linear(in_features=64, out_features=num_classes),\n",
        "            nn.Softmax(dim=1)\n",
        "        )\n",
        "\n",
        "    def forward(self, x):\n",
        "        out = self.convolutional_sequence_1(x)\n",
        "        #print('After 1st Con layer: {}'.format(out.shape))\n",
        "        out = self.convolutional_sequence_2(out)\n",
        "        #print('After 2nd Con layer: {}'.format(out.shape))\n",
        "        out = self.convolutional_sequence_3(out)\n",
        "        #print('After 3rd Con layer: {}'.format(out.shape))\n",
        "        out = self.convolutional_sequence_4(out)\n",
        "        #print('After 4rd Con layer: {}'.format(out.shape))\n",
        "        out = self.flattening_layer(out)\n",
        "        #print('After Flattening layer: {}'.format(out.shape))\n",
        "        out = self.fully_connected_sequence_1(out)\n",
        "        print('After 1st FC layer: {}'.format(out.shape))\n",
        "        out = self.fully_connected_sequence_2(out)\n",
        "        print('After 2nd FC layer: {}'.format(out.shape))\n",
        "        out = self.fully_connected_sequence_3(out)\n",
        "        print('After 3nd FC layer: {}'.format(out.shape))\n",
        "        out = self.output_layer(out)\n",
        "        print('After O/P layer: {}'.format(out.shape))\n",
        "        return out"
      ],
      "metadata": {
        "id": "C6A_Iff9ZyiL"
      },
      "execution_count": null,
      "outputs": []
    },
    {
      "cell_type": "code",
      "source": [
        "set_random_seeds()\n",
        "model = MyCnnModel_2(NUM_CLASSES, BATCH_SIZE, nn.ReLU())\n",
        "model = model.to(device)\n",
        "\n",
        "criterion = nn.CrossEntropyLoss()\n",
        "optimiser = torch.optim.Adam(model.parameters(), lr = learning_rate)\n",
        "scheduler = torch.optim.lr_scheduler.ReduceLROnPlateau(optimizer=optimiser, patience=2, factor=0.8, verbose=True)"
      ],
      "metadata": {
        "id": "kh8B7bVoT_Tz"
      },
      "execution_count": null,
      "outputs": []
    },
    {
      "cell_type": "code",
      "source": [
        "num_epochs = 20\n",
        "model_name = 'model_3'\n",
        "train_loss_for_transformed_data, validation_loss_for_transformed_data = train_model(model, train_data_with_transforms_data_loader, validation_data_with_transforms_data_loader, num_epochs, criterion, optimiser, scheduler, device, model_name)"
      ],
      "metadata": {
        "colab": {
          "base_uri": "https://localhost:8080/"
        },
        "id": "I6QaUflW2zAf",
        "outputId": "cbafd16c-44bb-48a9-9040-9c09e12b6415"
      },
      "execution_count": null,
      "outputs": [
        {
          "output_type": "stream",
          "name": "stdout",
          "text": [
            "################################### Epoch 1 ###################################\n",
            "Training Loss = 0.003991230509281158        \tTraining Accuracy = 0.45124        \tValidation_loss = 0.0037644456028938294        \tValidation Accuracy = 0.581\n",
            "################################### Epoch 2 ###################################\n",
            "Training Loss = 0.0036080483961105345        \tTraining Accuracy = 0.63132        \tValidation_loss = 0.003566801381111145        \tValidation Accuracy = 0.6809\n",
            "################################### Epoch 3 ###################################\n",
            "Training Loss = 0.003497955827713013        \tTraining Accuracy = 0.68262        \tValidation_loss = 0.00354263037443161        \tValidation Accuracy = 0.6904\n",
            "################################### Epoch 4 ###################################\n",
            "Training Loss = 0.003469796414375305        \tTraining Accuracy = 0.69542        \tValidation_loss = 0.0035188511967658995        \tValidation Accuracy = 0.7017\n",
            "################################### Epoch 5 ###################################\n",
            "Training Loss = 0.0034516065573692322        \tTraining Accuracy = 0.70288        \tValidation_loss = 0.0035121830105781554        \tValidation Accuracy = 0.7051\n",
            "################################### Epoch 6 ###################################\n",
            "Training Loss = 0.003369587082862854        \tTraining Accuracy = 0.74728        \tValidation_loss = 0.003351859760284424        \tValidation Accuracy = 0.7862\n",
            "################################### Epoch 7 ###################################\n",
            "Training Loss = 0.0032843931221961976        \tTraining Accuracy = 0.78944        \tValidation_loss = 0.0033236876487731932        \tValidation Accuracy = 0.8001\n",
            "################################### Epoch 8 ###################################\n",
            "Training Loss = 0.0032639969396591187        \tTraining Accuracy = 0.7999        \tValidation_loss = 0.0033082147717475893        \tValidation Accuracy = 0.8074\n",
            "################################### Epoch 9 ###################################\n",
            "Training Loss = 0.0032499119973182678        \tTraining Accuracy = 0.80612        \tValidation_loss = 0.0033002365112304688        \tValidation Accuracy = 0.8114\n",
            "################################### Epoch 10 ###################################\n",
            "Training Loss = 0.003241056363582611        \tTraining Accuracy = 0.81048        \tValidation_loss = 0.0032945412278175355        \tValidation Accuracy = 0.8136\n",
            "################################### Epoch 11 ###################################\n",
            "Training Loss = 0.003233465871810913        \tTraining Accuracy = 0.8137        \tValidation_loss = 0.003297855234146118        \tValidation Accuracy = 0.8122\n",
            "################################### Epoch 12 ###################################\n",
            "Training Loss = 0.0032280579543113707        \tTraining Accuracy = 0.81608        \tValidation_loss = 0.003283590316772461        \tValidation Accuracy = 0.8197\n",
            "################################### Epoch 13 ###################################\n",
            "Training Loss = 0.0032224046874046327        \tTraining Accuracy = 0.8187        \tValidation_loss = 0.003287242794036865        \tValidation Accuracy = 0.8173\n",
            "################################### Epoch 14 ###################################\n",
            "Training Loss = 0.0032200603532791137        \tTraining Accuracy = 0.81964        \tValidation_loss = 0.003288138937950134        \tValidation Accuracy = 0.8156\n",
            "################################### Epoch 15 ###################################\n",
            "Training Loss = 0.00321435359954834        \tTraining Accuracy = 0.82276        \tValidation_loss = 0.0032781211256980897        \tValidation Accuracy = 0.8211\n",
            "################################### Epoch 16 ###################################\n",
            "Training Loss = 0.0032093873119354247        \tTraining Accuracy = 0.8249        \tValidation_loss = 0.0032753612756729125        \tValidation Accuracy = 0.8221\n",
            "################################### Epoch 17 ###################################\n",
            "Training Loss = 0.003205332200527191        \tTraining Accuracy = 0.82688        \tValidation_loss = 0.003270157992839813        \tValidation Accuracy = 0.8256\n",
            "################################### Epoch 18 ###################################\n",
            "Training Loss = 0.0032059173035621645        \tTraining Accuracy = 0.82698        \tValidation_loss = 0.0032681872725486756        \tValidation Accuracy = 0.8262\n",
            "################################### Epoch 19 ###################################\n",
            "Training Loss = 0.0032022305846214293        \tTraining Accuracy = 0.82824        \tValidation_loss = 0.003262049174308777        \tValidation Accuracy = 0.8303\n",
            "################################### Epoch 20 ###################################\n",
            "Training Loss = 0.0031972267889976503        \tTraining Accuracy = 0.83112        \tValidation_loss = 0.003265254032611847        \tValidation Accuracy = 0.8271\n"
          ]
        }
      ]
    },
    {
      "cell_type": "code",
      "source": [
        "model = torch.load(model_name)\n",
        "test_model(model, test_data_with_transforms_data_loader, device)"
      ],
      "metadata": {
        "colab": {
          "base_uri": "https://localhost:8080/"
        },
        "id": "MgSjQaG87C0k",
        "outputId": "667087a6-b16a-4b92-87fc-35d10659905f"
      },
      "execution_count": null,
      "outputs": [
        {
          "output_type": "stream",
          "name": "stdout",
          "text": [
            "Testing Accuracy = 0.8376\n"
          ]
        }
      ]
    },
    {
      "cell_type": "code",
      "source": [
        "draw_loss_curves(train_loss_for_transformed_data, validation_loss_for_transformed_data)"
      ],
      "metadata": {
        "colab": {
          "base_uri": "https://localhost:8080/",
          "height": 295
        },
        "id": "3AlIJL4r76vm",
        "outputId": "df406fb3-2285-4f8e-d814-e22ba5b6a473"
      },
      "execution_count": null,
      "outputs": [
        {
          "output_type": "display_data",
          "data": {
            "text/plain": [
              "<Figure size 432x288 with 1 Axes>"
            ],
            "image/png": "[encoded data removed]"
          },
          "metadata": {
            "needs_background": "light"
          }
        }
      ]
    },
    {
      "cell_type": "markdown",
      "source": [
        "#Model 4\n",
        "\n",
        "## Changing relu to leaky relu in the fully connected layers\n",
        "\n",
        "We will now change the ReLU activation function in the fully connected layers to Leaky ReLU and see the changes on loss and accuracy of the previous model "
      ],
      "metadata": {
        "id": "IS-tUtSU8JUE"
      }
    },
    {
      "cell_type": "code",
      "source": [
        "set_random_seeds()\n",
        "model = MyCnnModel_2(NUM_CLASSES, BATCH_SIZE, nn.LeakyReLU())\n",
        "model = model.to(device)\n",
        "\n",
        "criterion = nn.CrossEntropyLoss()\n",
        "optimiser = torch.optim.Adam(model.parameters(), lr = learning_rate)\n",
        "scheduler = torch.optim.lr_scheduler.ReduceLROnPlateau(optimizer=optimiser, patience=2, factor=0.8, verbose=True)"
      ],
      "metadata": {
        "id": "0I2vjagG8ozM"
      },
      "execution_count": null,
      "outputs": []
    },
    {
      "cell_type": "code",
      "source": [
        "num_epochs = 20\n",
        "model_name = 'model_4'\n",
        "train_loss_for_transformed_data, validation_loss_for_transformed_data = train_model(model, train_data_with_transforms_data_loader, validation_data_with_transforms_data_loader, num_epochs, criterion, optimiser, scheduler, device, model_name)"
      ],
      "metadata": {
        "colab": {
          "base_uri": "https://localhost:8080/"
        },
        "id": "y1J2jd_L8zJP",
        "outputId": "fbff6d03-37ac-458d-c539-9ba39c1d39bc"
      },
      "execution_count": null,
      "outputs": [
        {
          "output_type": "stream",
          "name": "stdout",
          "text": [
            "################################### Epoch 1 ###################################\n",
            "Training Loss = 0.003981398324966431        \tTraining Accuracy = 0.45632        \tValidation_loss = 0.0037067737460136415        \tValidation Accuracy = 0.6159\n",
            "################################### Epoch 2 ###################################\n",
            "Training Loss = 0.003563108060359955        \tTraining Accuracy = 0.65448        \tValidation_loss = 0.0035595759987831115        \tValidation Accuracy = 0.6833\n",
            "################################### Epoch 3 ###################################\n",
            "Training Loss = 0.00348948760509491        \tTraining Accuracy = 0.68572        \tValidation_loss = 0.003537599813938141        \tValidation Accuracy = 0.6939\n",
            "################################### Epoch 4 ###################################\n",
            "Training Loss = 0.0034637071657180785        \tTraining Accuracy = 0.69736        \tValidation_loss = 0.003515952515602112        \tValidation Accuracy = 0.704\n",
            "################################### Epoch 5 ###################################\n",
            "Training Loss = 0.0034290699696540835        \tTraining Accuracy = 0.71552        \tValidation_loss = 0.003379092264175415        \tValidation Accuracy = 0.7767\n",
            "################################### Epoch 6 ###################################\n",
            "Training Loss = 0.00330029691696167        \tTraining Accuracy = 0.78234        \tValidation_loss = 0.003337266993522644        \tValidation Accuracy = 0.7923\n",
            "################################### Epoch 7 ###################################\n",
            "Training Loss = 0.003270241346359253        \tTraining Accuracy = 0.796        \tValidation_loss = 0.003313771963119507        \tValidation Accuracy = 0.8055\n",
            "################################### Epoch 8 ###################################\n",
            "Training Loss = 0.0032562210035324097        \tTraining Accuracy = 0.80274        \tValidation_loss = 0.003299427545070648        \tValidation Accuracy = 0.8127\n",
            "################################### Epoch 9 ###################################\n",
            "Training Loss = 0.0032439638710021973        \tTraining Accuracy = 0.80886        \tValidation_loss = 0.0032995959758758543        \tValidation Accuracy = 0.81\n",
            "################################### Epoch 10 ###################################\n",
            "Training Loss = 0.003233464787006378        \tTraining Accuracy = 0.81412        \tValidation_loss = 0.003290780198574066        \tValidation Accuracy = 0.8145\n",
            "################################### Epoch 11 ###################################\n",
            "Training Loss = 0.0032275768280029295        \tTraining Accuracy = 0.81594        \tValidation_loss = 0.003291244614124298        \tValidation Accuracy = 0.815\n",
            "################################### Epoch 12 ###################################\n",
            "Training Loss = 0.0032229071855545046        \tTraining Accuracy = 0.81944        \tValidation_loss = 0.003285450768470764        \tValidation Accuracy = 0.8199\n",
            "################################### Epoch 13 ###################################\n",
            "Training Loss = 0.0032196232867240907        \tTraining Accuracy = 0.81988        \tValidation_loss = 0.0032802347660064696        \tValidation Accuracy = 0.8203\n",
            "################################### Epoch 14 ###################################\n",
            "Training Loss = 0.003214922649860382        \tTraining Accuracy = 0.8224        \tValidation_loss = 0.003281894767284393        \tValidation Accuracy = 0.8211\n",
            "################################### Epoch 15 ###################################\n",
            "Training Loss = 0.003210844223499298        \tTraining Accuracy = 0.82366        \tValidation_loss = 0.0032798725843429565        \tValidation Accuracy = 0.8214\n",
            "################################### Epoch 16 ###################################\n",
            "Training Loss = 0.0032083488893508913        \tTraining Accuracy = 0.82506        \tValidation_loss = 0.00327152214050293        \tValidation Accuracy = 0.8252\n",
            "################################### Epoch 17 ###################################\n",
            "Training Loss = 0.0032013920831680297        \tTraining Accuracy = 0.82898        \tValidation_loss = 0.0032722752690315248        \tValidation Accuracy = 0.8253\n",
            "################################### Epoch 18 ###################################\n",
            "Training Loss = 0.003192063310146332        \tTraining Accuracy = 0.8339        \tValidation_loss = 0.0032319230675697326        \tValidation Accuracy = 0.8478\n",
            "################################### Epoch 19 ###################################\n",
            "Training Loss = 0.003162805404663086        \tTraining Accuracy = 0.8502        \tValidation_loss = 0.003203055286407471        \tValidation Accuracy = 0.8591\n",
            "################################### Epoch 20 ###################################\n",
            "Training Loss = 0.0031461490964889527        \tTraining Accuracy = 0.8589        \tValidation_loss = 0.0031967750430107115        \tValidation Accuracy = 0.8637\n"
          ]
        }
      ]
    },
    {
      "cell_type": "code",
      "source": [
        "model = torch.load(model_name)\n",
        "test_model(model, test_data_with_transforms_data_loader, device)"
      ],
      "metadata": {
        "colab": {
          "base_uri": "https://localhost:8080/"
        },
        "id": "P2NJiqd487Gx",
        "outputId": "0e5a4695-f5c1-4f79-9c7d-51d9a2db9325"
      },
      "execution_count": null,
      "outputs": [
        {
          "output_type": "stream",
          "name": "stdout",
          "text": [
            "Testing Accuracy = 0.8637\n"
          ]
        }
      ]
    },
    {
      "cell_type": "code",
      "source": [
        "draw_loss_curves(train_loss_for_transformed_data, validation_loss_for_transformed_data)"
      ],
      "metadata": {
        "colab": {
          "base_uri": "https://localhost:8080/",
          "height": 295
        },
        "id": "vTvoGMW0-pft",
        "outputId": "fb2ebb53-eb43-4526-d905-8b70f6e80f0e"
      },
      "execution_count": null,
      "outputs": [
        {
          "output_type": "display_data",
          "data": {
            "text/plain": [
              "<Figure size 432x288 with 1 Axes>"
            ],
            "image/png": "[encoded data removed]"
          },
          "metadata": {
            "needs_background": "light"
          }
        }
      ]
    },
    {
      "cell_type": "markdown",
      "source": [
        "#Model 5\n",
        "\n",
        "## We can now try changing the weights initialisation strategy"
      ],
      "metadata": {
        "id": "Z-sv_VBm-0f8"
      }
    },
    {
      "cell_type": "code",
      "source": [
        "def initialize_weights(m):\n",
        "\n",
        "  if isinstance(m, nn.Conv2d):\n",
        "      nn.init.kaiming_normal_(m.weight.data,nonlinearity='relu')\n",
        "      if m.bias is not None:\n",
        "          nn.init.constant_(m.bias.data, 0)\n",
        "\n",
        "  elif isinstance(m, nn.BatchNorm2d):\n",
        "      nn.init.constant_(m.weight.data, 1)\n",
        "      nn.init.constant_(m.bias.data, 0)\n",
        "\n",
        "  elif isinstance(m, nn.Linear):\n",
        "      nn.init.kaiming_normal_(m.weight.data)\n",
        "      nn.init.constant_(m.bias.data, 0)"
      ],
      "metadata": {
        "id": "eJL6hO2YylF7"
      },
      "execution_count": null,
      "outputs": []
    },
    {
      "cell_type": "code",
      "source": [
        "set_random_seeds()\n",
        "kaiming_weight_model = MyCnnModel_2(NUM_CLASSES, BATCH_SIZE, nn.LeakyReLU())\n",
        "kaiming_weight_model.apply(initialize_weights)\n",
        "kaiming_weight_model = kaiming_weight_model.to(device)\n",
        "\n",
        "criterion = nn.CrossEntropyLoss()\n",
        "optimiser = torch.optim.Adam(kaiming_weight_model.parameters(), lr = learning_rate)\n",
        "scheduler = torch.optim.lr_scheduler.ReduceLROnPlateau(optimizer=optimiser, patience=2, factor=0.8, verbose=True)"
      ],
      "metadata": {
        "id": "tdEgwyWjx-l-"
      },
      "execution_count": null,
      "outputs": []
    },
    {
      "cell_type": "code",
      "source": [
        "num_epochs = 20\n",
        "model_name = 'model_5'\n",
        "train_loss_for_transformed_data, validation_loss_for_transformed_data = train_model(kaiming_weight_model, train_data_with_transforms_data_loader, validation_data_with_transforms_data_loader, num_epochs, criterion, optimiser, scheduler, device, model_name)"
      ],
      "metadata": {
        "id": "eQUcmT4ix_FV",
        "colab": {
          "base_uri": "https://localhost:8080/"
        },
        "outputId": "a08e055d-380e-4899-82da-3a66b0198d44"
      },
      "execution_count": null,
      "outputs": [
        {
          "output_type": "stream",
          "name": "stdout",
          "text": [
            "################################### Epoch 1 ###################################\n",
            "Training Loss = 0.0038549502563476564        \tTraining Accuracy = 0.49798        \tValidation_loss = 0.0036098105549812317        \tValidation Accuracy = 0.6624\n",
            "################################### Epoch 2 ###################################\n",
            "Training Loss = 0.0035395225834846497        \tTraining Accuracy = 0.66042        \tValidation_loss = 0.0034008931279182436        \tValidation Accuracy = 0.7649\n",
            "################################### Epoch 3 ###################################\n",
            "Training Loss = 0.003373997805118561        \tTraining Accuracy = 0.74604        \tValidation_loss = 0.0033458871960639954        \tValidation Accuracy = 0.7885\n",
            "################################### Epoch 4 ###################################\n",
            "Training Loss = 0.0033253721070289613        \tTraining Accuracy = 0.76866        \tValidation_loss = 0.003321752893924713        \tValidation Accuracy = 0.8004\n",
            "################################### Epoch 5 ###################################\n",
            "Training Loss = 0.0032862842512130738        \tTraining Accuracy = 0.7879        \tValidation_loss = 0.003298087954521179        \tValidation Accuracy = 0.8123\n",
            "################################### Epoch 6 ###################################\n",
            "Training Loss = 0.0032608373069763184        \tTraining Accuracy = 0.80054        \tValidation_loss = 0.0032874215960502625        \tValidation Accuracy = 0.8182\n",
            "################################### Epoch 7 ###################################\n",
            "Training Loss = 0.0032454928708076478        \tTraining Accuracy = 0.80824        \tValidation_loss = 0.003269302833080292        \tValidation Accuracy = 0.8268\n",
            "################################### Epoch 8 ###################################\n",
            "Training Loss = 0.003233688659667969        \tTraining Accuracy = 0.81366        \tValidation_loss = 0.0032518607139587403        \tValidation Accuracy = 0.8348\n",
            "################################### Epoch 9 ###################################\n",
            "Training Loss = 0.003220580675601959        \tTraining Accuracy = 0.82012        \tValidation_loss = 0.003259472572803497        \tValidation Accuracy = 0.8305\n",
            "################################### Epoch 10 ###################################\n",
            "Training Loss = 0.003214064280986786        \tTraining Accuracy = 0.82304        \tValidation_loss = 0.0032420186996459962        \tValidation Accuracy = 0.8397\n",
            "################################### Epoch 11 ###################################\n",
            "Training Loss = 0.003201011765003204        \tTraining Accuracy = 0.8307        \tValidation_loss = 0.0032368842363357546        \tValidation Accuracy = 0.8414\n",
            "################################### Epoch 12 ###################################\n",
            "Training Loss = 0.003201255795955658        \tTraining Accuracy = 0.82912        \tValidation_loss = 0.003231012403964996        \tValidation Accuracy = 0.8463\n",
            "################################### Epoch 13 ###################################\n",
            "Training Loss = 0.003191469304561615        \tTraining Accuracy = 0.8343        \tValidation_loss = 0.003226559805870056        \tValidation Accuracy = 0.849\n",
            "################################### Epoch 14 ###################################\n",
            "Training Loss = 0.0031852369236946105        \tTraining Accuracy = 0.83704        \tValidation_loss = 0.0032232152938842774        \tValidation Accuracy = 0.8486\n",
            "################################### Epoch 15 ###################################\n",
            "Training Loss = 0.003182006261348724        \tTraining Accuracy = 0.83908        \tValidation_loss = 0.003220391643047333        \tValidation Accuracy = 0.8497\n",
            "################################### Epoch 16 ###################################\n",
            "Training Loss = 0.003180031440258026        \tTraining Accuracy = 0.83954        \tValidation_loss = 0.0032139683842658997        \tValidation Accuracy = 0.8535\n",
            "################################### Epoch 17 ###################################\n",
            "Training Loss = 0.00317277498960495        \tTraining Accuracy = 0.84306        \tValidation_loss = 0.003223827862739563        \tValidation Accuracy = 0.8483\n",
            "################################### Epoch 18 ###################################\n",
            "Training Loss = 0.0031680252528190614        \tTraining Accuracy = 0.84592        \tValidation_loss = 0.0032190138101577757        \tValidation Accuracy = 0.85\n",
            "################################### Epoch 19 ###################################\n",
            "Epoch 00019: reducing learning rate of group 0 to 8.0000e-05.\n",
            "Training Loss = 0.003163747971057892        \tTraining Accuracy = 0.8477        \tValidation_loss = 0.0032170233011245726        \tValidation Accuracy = 0.8507\n",
            "################################### Epoch 20 ###################################\n",
            "Training Loss = 0.0031574829602241516        \tTraining Accuracy = 0.85142        \tValidation_loss = 0.003206598973274231        \tValidation Accuracy = 0.857\n"
          ]
        }
      ]
    },
    {
      "cell_type": "code",
      "source": [
        "model = torch.load(model_name)\n",
        "test_model(model, test_data_with_transforms_data_loader, device)"
      ],
      "metadata": {
        "colab": {
          "base_uri": "https://localhost:8080/"
        },
        "id": "CxZTi1OvsCWO",
        "outputId": "26635ffe-d858-433f-bac8-2b25335a048f"
      },
      "execution_count": null,
      "outputs": [
        {
          "output_type": "stream",
          "name": "stdout",
          "text": [
            "Testing Accuracy = 0.8562\n"
          ]
        }
      ]
    },
    {
      "cell_type": "code",
      "source": [
        "draw_loss_curves(train_loss_for_transformed_data, validation_loss_for_transformed_data)"
      ],
      "metadata": {
        "colab": {
          "base_uri": "https://localhost:8080/",
          "height": 295
        },
        "id": "ENoK3h0ruwD4",
        "outputId": "df940999-3053-4650-fd86-b2e29abab8aa"
      },
      "execution_count": null,
      "outputs": [
        {
          "output_type": "display_data",
          "data": {
            "text/plain": [
              "<Figure size 432x288 with 1 Axes>"
            ],
            "image/png": "[encoded data removed]"
          },
          "metadata": {
            "needs_background": "light"
          }
        }
      ]
    },
    {
      "cell_type": "markdown",
      "source": [
        "# Model 6\n",
        "\n",
        "## Trying to stratify the dataset with a more even spread of labels in training and validation set"
      ],
      "metadata": {
        "id": "baZtL4NDfLFI"
      }
    },
    {
      "cell_type": "code",
      "source": [
        "from sklearn.model_selection import train_test_split\n",
        "from torch.utils.data import Subset\n",
        "\n",
        "targets = training_data_with_transforms.targets.tolist()\n",
        "\n",
        "set_random_seeds()\n",
        "train_idx, valid_idx= train_test_split(\n",
        "    np.arange(len(targets)),\n",
        "    test_size=1/6,\n",
        "    shuffle=True,\n",
        "    stratify=targets)\n",
        "\n",
        "train_sampler = SubsetRandomSampler(train_idx)\n",
        "valididation_sampler = SubsetRandomSampler(valid_idx)\n",
        "\n",
        "num_workers = 8 if device == 'cuda' else 0\n",
        "\n",
        "train_data_with_transforms_data_loader = DataLoader(training_data_with_transforms, num_workers = num_workers, batch_size = BATCH_SIZE, sampler=train_sampler)\n",
        "test_data_with_transforms_data_loader = DataLoader(test_data_with_transforms, num_workers = num_workers, batch_size = BATCH_SIZE)\n",
        "validation_data_with_transforms_data_loader = DataLoader(training_data_with_transforms, num_workers = num_workers, batch_size = BATCH_SIZE, sampler=valididation_sampler)"
      ],
      "metadata": {
        "id": "IiC_9yBFjx2x"
      },
      "execution_count": null,
      "outputs": []
    },
    {
      "cell_type": "code",
      "source": [
        "set_random_seeds()\n",
        "kaiming_weight_model = MyCnnModel_2(NUM_CLASSES, BATCH_SIZE, nn.LeakyReLU())\n",
        "kaiming_weight_model.apply(initialize_weights)\n",
        "kaiming_weight_model = kaiming_weight_model.to(device)\n",
        "\n",
        "criterion = nn.CrossEntropyLoss()\n",
        "optimiser = torch.optim.Adam(kaiming_weight_model.parameters(), lr = learning_rate)\n",
        "scheduler = torch.optim.lr_scheduler.ReduceLROnPlateau(optimizer=optimiser, patience=2, factor=0.8, verbose=True)"
      ],
      "metadata": {
        "id": "vZHL-TRKjzwH"
      },
      "execution_count": null,
      "outputs": []
    },
    {
      "cell_type": "code",
      "source": [
        "num_epochs = 20\n",
        "model_name = 'model_6'\n",
        "train_loss_for_transformed_data, validation_loss_for_transformed_data = train_model(kaiming_weight_model, train_data_with_transforms_data_loader, validation_data_with_transforms_data_loader, num_epochs, criterion, optimiser, scheduler, device, model_name)\n"
      ],
      "metadata": {
        "colab": {
          "base_uri": "https://localhost:8080/"
        },
        "id": "lZvcCc1ik039",
        "outputId": "9fb45273-09f2-4978-98c5-8053d260f8d8"
      },
      "execution_count": null,
      "outputs": [
        {
          "output_type": "stream",
          "name": "stdout",
          "text": [
            "################################### Epoch 1 ###################################\n",
            "Training Loss = 0.0038571357440948485        \tTraining Accuracy = 0.49742        \tValidation_loss = 0.003600745725631714        \tValidation Accuracy = 0.6627\n",
            "################################### Epoch 2 ###################################\n",
            "Training Loss = 0.003537699625492096        \tTraining Accuracy = 0.66146        \tValidation_loss = 0.0035116105556488035        \tValidation Accuracy = 0.7008\n",
            "################################### Epoch 3 ###################################\n",
            "Training Loss = 0.0033900826287269594        \tTraining Accuracy = 0.73772        \tValidation_loss = 0.003358500349521637        \tValidation Accuracy = 0.7839\n",
            "################################### Epoch 4 ###################################\n",
            "Training Loss = 0.0033192975759506224        \tTraining Accuracy = 0.7724        \tValidation_loss = 0.0033273802399635317        \tValidation Accuracy = 0.7987\n",
            "################################### Epoch 5 ###################################\n",
            "Training Loss = 0.003293647952079773        \tTraining Accuracy = 0.78486        \tValidation_loss = 0.003301362121105194        \tValidation Accuracy = 0.81\n",
            "################################### Epoch 6 ###################################\n",
            "Training Loss = 0.0032661243867874146        \tTraining Accuracy = 0.79798        \tValidation_loss = 0.0032871533751487733        \tValidation Accuracy = 0.817\n",
            "################################### Epoch 7 ###################################\n",
            "Training Loss = 0.003245063292980194        \tTraining Accuracy = 0.8087        \tValidation_loss = 0.0032817367911338806        \tValidation Accuracy = 0.8192\n",
            "################################### Epoch 8 ###################################\n",
            "Training Loss = 0.0032358394074440003        \tTraining Accuracy = 0.81264        \tValidation_loss = 0.003264102303981781        \tValidation Accuracy = 0.8284\n",
            "################################### Epoch 9 ###################################\n",
            "Training Loss = 0.0032270671701431276        \tTraining Accuracy = 0.81654        \tValidation_loss = 0.003274924409389496        \tValidation Accuracy = 0.8228\n",
            "################################### Epoch 10 ###################################\n",
            "Training Loss = 0.003216735973358154        \tTraining Accuracy = 0.822        \tValidation_loss = 0.0032692840099334715        \tValidation Accuracy = 0.8269\n",
            "################################### Epoch 11 ###################################\n",
            "Training Loss = 0.003209011878967285        \tTraining Accuracy = 0.82532        \tValidation_loss = 0.003243169569969177        \tValidation Accuracy = 0.8384\n",
            "################################### Epoch 12 ###################################\n",
            "Training Loss = 0.0032006792616844177        \tTraining Accuracy = 0.82948        \tValidation_loss = 0.0032475579738616943        \tValidation Accuracy = 0.8372\n",
            "################################### Epoch 13 ###################################\n",
            "Training Loss = 0.003191555802822113        \tTraining Accuracy = 0.83432        \tValidation_loss = 0.0032537328243255614        \tValidation Accuracy = 0.835\n",
            "################################### Epoch 14 ###################################\n",
            "Training Loss = 0.003188153696060181        \tTraining Accuracy = 0.83562        \tValidation_loss = 0.0032347129106521607        \tValidation Accuracy = 0.8434\n",
            "################################### Epoch 15 ###################################\n",
            "Training Loss = 0.0031779427218437194        \tTraining Accuracy = 0.84136        \tValidation_loss = 0.003234337341785431        \tValidation Accuracy = 0.8424\n",
            "################################### Epoch 16 ###################################\n",
            "Training Loss = 0.003178297049999237        \tTraining Accuracy = 0.84132        \tValidation_loss = 0.003225547218322754        \tValidation Accuracy = 0.8481\n",
            "################################### Epoch 17 ###################################\n",
            "Training Loss = 0.0031738484859466553        \tTraining Accuracy = 0.84276        \tValidation_loss = 0.0032199135184288025        \tValidation Accuracy = 0.8515\n",
            "################################### Epoch 18 ###################################\n",
            "Training Loss = 0.003168917782306671        \tTraining Accuracy = 0.84552        \tValidation_loss = 0.0032185877919197084        \tValidation Accuracy = 0.8514\n",
            "################################### Epoch 19 ###################################\n",
            "Training Loss = 0.003170370571613312        \tTraining Accuracy = 0.8441        \tValidation_loss = 0.0032219162821769715        \tValidation Accuracy = 0.8491\n",
            "################################### Epoch 20 ###################################\n",
            "Training Loss = 0.003160171151161194        \tTraining Accuracy = 0.84968        \tValidation_loss = 0.003218206012248993        \tValidation Accuracy = 0.8503\n"
          ]
        }
      ]
    },
    {
      "cell_type": "code",
      "source": [
        "model = torch.load(model_name)\n",
        "test_model(model, test_data_with_transforms_data_loader, device)"
      ],
      "metadata": {
        "colab": {
          "base_uri": "https://localhost:8080/"
        },
        "id": "5XLxKP8XNBau",
        "outputId": "be2e4cdc-8725-4ba0-da9d-885fba40a59a"
      },
      "execution_count": null,
      "outputs": [
        {
          "output_type": "stream",
          "name": "stdout",
          "text": [
            "Testing Accuracy = 0.8533\n"
          ]
        }
      ]
    },
    {
      "cell_type": "code",
      "source": [
        "draw_loss_curves(train_loss_for_transformed_data, validation_loss_for_transformed_data)"
      ],
      "metadata": {
        "colab": {
          "base_uri": "https://localhost:8080/",
          "height": 295
        },
        "id": "1pRMv0FmmBMb",
        "outputId": "f9ff4c8e-4e21-468f-fe43-1063077b9ea7"
      },
      "execution_count": null,
      "outputs": [
        {
          "output_type": "display_data",
          "data": {
            "text/plain": [
              "<Figure size 432x288 with 1 Axes>"
            ],
            "image/png": "[encoded data removed]"
          },
          "metadata": {
            "needs_background": "light"
          }
        }
      ]
    },
    {
      "cell_type": "markdown",
      "source": [
        "# Model 7\n",
        "\n",
        "## Increasing the channels to increase feature extractions\n",
        "\n",
        "To increase the number of features extracted, we just remove the max pooling layer that reduced the number of features by 75%"
      ],
      "metadata": {
        "id": "mShDlXDNzaOJ"
      }
    },
    {
      "cell_type": "code",
      "source": [
        "class MyCnnModel_3(nn.Module):\n",
        "    def __init__(self, num_classes, batch_size, fully_connected_layer_activation_function):\n",
        "        super().__init__()\n",
        "        self.convolutional_sequence_1 = nn.Sequential(\n",
        "            nn.Conv2d(in_channels=1, out_channels=8, kernel_size=3, padding=1),\n",
        "            nn.BatchNorm2d(8),\n",
        "            nn.ReLU()\n",
        "        )\n",
        "\n",
        "        self.convolutional_sequence_2 = nn.Sequential(\n",
        "            nn.Conv2d(in_channels=8, out_channels=16, kernel_size=3, padding=1),\n",
        "            nn.BatchNorm2d(16),\n",
        "            nn.ReLU()\n",
        "        )\n",
        "\n",
        "        self.convolutional_sequence_3 = nn.Sequential(\n",
        "            nn.Conv2d(in_channels=16, out_channels=32, kernel_size=3, padding=1),\n",
        "            nn.BatchNorm2d(32),\n",
        "            nn.ReLU()\n",
        "        )\n",
        "\n",
        "        self.convolutional_sequence_4 = nn.Sequential(\n",
        "            nn.Conv2d(in_channels=32, out_channels=64, kernel_size=3, padding=1),\n",
        "            nn.BatchNorm2d(64),\n",
        "            nn.ReLU(),\n",
        "            nn.MaxPool2d(kernel_size=(2,2), stride=(2,2))\n",
        "        )\n",
        "\n",
        "        self.flattening_layer = nn.Flatten()\n",
        "\n",
        "        self.fully_connected_sequence_1 = nn.Sequential(\n",
        "            nn.Linear(in_features=12544, out_features=256),\n",
        "            nn.Dropout(p=0.2),\n",
        "            fully_connected_layer_activation_function\n",
        "        )\n",
        "\n",
        "        self.fully_connected_sequence_2 = nn.Sequential(\n",
        "            nn.Linear(in_features=256, out_features=128),\n",
        "            nn.Dropout(p=0.2),\n",
        "            fully_connected_layer_activation_function\n",
        "        )\n",
        "\n",
        "        self.fully_connected_sequence_3 = nn.Sequential(\n",
        "            nn.Linear(in_features=128, out_features=64),\n",
        "            nn.Dropout(p=0.2),\n",
        "            fully_connected_layer_activation_function\n",
        "        )\n",
        "\n",
        "        self.output_layer = nn.Sequential(\n",
        "            nn.Linear(in_features=64, out_features=num_classes),\n",
        "            nn.Softmax(dim=1)\n",
        "        )\n",
        "\n",
        "    def forward(self, x):\n",
        "        out = self.convolutional_sequence_1(x)\n",
        "        #print('After 1st Con layer: {}'.format(out.shape))\n",
        "        out = self.convolutional_sequence_2(out)\n",
        "        #print('After 2nd Con layer: {}'.format(out.shape))\n",
        "        out = self.convolutional_sequence_3(out)\n",
        "        #print('After 3rd Con layer: {}'.format(out.shape))\n",
        "        out = self.convolutional_sequence_4(out)\n",
        "        #print('After 4rd Con layer: {}'.format(out.shape))\n",
        "        out = self.flattening_layer(out)\n",
        "        #print('After Flattening layer: {}'.format(out.shape))\n",
        "        out = self.fully_connected_sequence_1(out)\n",
        "        #print('After 1st FC layer: {}'.format(out.shape))\n",
        "        out = self.fully_connected_sequence_2(out)\n",
        "        #print('After 2nd FC layer: {}'.format(out.shape))\n",
        "        out = self.fully_connected_sequence_3(out)\n",
        "        #print('After 3nd FC layer: {}'.format(out.shape))\n",
        "        out = self.output_layer(out)\n",
        "        #print('After O/P layer: {}'.format(out.shape))\n",
        "        return out"
      ],
      "metadata": {
        "id": "RGJmr5klpGNC"
      },
      "execution_count": null,
      "outputs": []
    },
    {
      "cell_type": "code",
      "source": [
        "set_random_seeds()\n",
        "model = MyCnnModel_3(NUM_CLASSES, BATCH_SIZE, nn.LeakyReLU())\n",
        "model.apply(initialize_weights)\n",
        "model.to(device)\n",
        "\n",
        "criterion = nn.CrossEntropyLoss()\n",
        "optimiser = torch.optim.Adam(model.parameters(), lr = learning_rate)\n",
        "scheduler = torch.optim.lr_scheduler.ReduceLROnPlateau(optimizer=optimiser, patience=2, factor=0.8, verbose=True)"
      ],
      "metadata": {
        "id": "XDymAI9Zzw1d"
      },
      "execution_count": null,
      "outputs": []
    },
    {
      "cell_type": "code",
      "source": [
        "num_epochs = 20\n",
        "model_name = 'model_7'\n",
        "train_loss_for_transformed_data, validation_loss_for_transformed_data = train_model(model, train_data_with_transforms_data_loader, validation_data_with_transforms_data_loader, num_epochs, criterion, optimiser, scheduler, device, model_name)\n"
      ],
      "metadata": {
        "colab": {
          "base_uri": "https://localhost:8080/"
        },
        "id": "ChEugZnbFmW9",
        "outputId": "20045877-660f-41b6-f9ee-a0e7d69499d3"
      },
      "execution_count": null,
      "outputs": [
        {
          "output_type": "stream",
          "name": "stdout",
          "text": [
            "################################### Epoch 1 ###################################\n",
            "Training Loss = 0.0038612857270240784        \tTraining Accuracy = 0.49538        \tValidation_loss = 0.0036024799466133116        \tValidation Accuracy = 0.663\n",
            "################################### Epoch 2 ###################################\n",
            "Training Loss = 0.003536230754852295        \tTraining Accuracy = 0.6629        \tValidation_loss = 0.0035131271958351133        \tValidation Accuracy = 0.7041\n",
            "################################### Epoch 3 ###################################\n",
            "Training Loss = 0.0034699511623382568        \tTraining Accuracy = 0.69394        \tValidation_loss = 0.0034768664360046385        \tValidation Accuracy = 0.7181\n",
            "################################### Epoch 4 ###################################\n",
            "Training Loss = 0.0033488360595703127        \tTraining Accuracy = 0.75842        \tValidation_loss = 0.0033382676124572752        \tValidation Accuracy = 0.7923\n",
            "################################### Epoch 5 ###################################\n",
            "Training Loss = 0.003292886064052582        \tTraining Accuracy = 0.78446        \tValidation_loss = 0.003308411884307861        \tValidation Accuracy = 0.8064\n",
            "################################### Epoch 6 ###################################\n",
            "Training Loss = 0.0032676138162612916        \tTraining Accuracy = 0.79758        \tValidation_loss = 0.0032826799750328064        \tValidation Accuracy = 0.8198\n",
            "################################### Epoch 7 ###################################\n",
            "Training Loss = 0.0032441263794898987        \tTraining Accuracy = 0.80886        \tValidation_loss = 0.003280870509147644        \tValidation Accuracy = 0.8205\n",
            "################################### Epoch 8 ###################################\n",
            "Training Loss = 0.003230452256202698        \tTraining Accuracy = 0.8163        \tValidation_loss = 0.0032621766686439513        \tValidation Accuracy = 0.8311\n",
            "################################### Epoch 9 ###################################\n",
            "Training Loss = 0.0032214814043045044        \tTraining Accuracy = 0.8203        \tValidation_loss = 0.003255795347690582        \tValidation Accuracy = 0.8329\n",
            "################################### Epoch 10 ###################################\n",
            "Training Loss = 0.0032104374146461486        \tTraining Accuracy = 0.82566        \tValidation_loss = 0.00325873339176178        \tValidation Accuracy = 0.8312\n",
            "################################### Epoch 11 ###################################\n",
            "Training Loss = 0.003205615167617798        \tTraining Accuracy = 0.82686        \tValidation_loss = 0.003248952007293701        \tValidation Accuracy = 0.8357\n",
            "################################### Epoch 12 ###################################\n",
            "Training Loss = 0.0031983702445030214        \tTraining Accuracy = 0.83042        \tValidation_loss = 0.0032467504143714903        \tValidation Accuracy = 0.8381\n",
            "################################### Epoch 13 ###################################\n",
            "Training Loss = 0.0031918810749053954        \tTraining Accuracy = 0.83372        \tValidation_loss = 0.00324457505941391        \tValidation Accuracy = 0.8387\n",
            "################################### Epoch 14 ###################################\n",
            "Training Loss = 0.003185829417705536        \tTraining Accuracy = 0.83684        \tValidation_loss = 0.0032306659817695617        \tValidation Accuracy = 0.8462\n",
            "################################### Epoch 15 ###################################\n",
            "Training Loss = 0.003173972704410553        \tTraining Accuracy = 0.8432        \tValidation_loss = 0.003231359267234802        \tValidation Accuracy = 0.8451\n",
            "################################### Epoch 16 ###################################\n",
            "Training Loss = 0.003177681634426117        \tTraining Accuracy = 0.84062        \tValidation_loss = 0.003222643458843231        \tValidation Accuracy = 0.8497\n",
            "################################### Epoch 17 ###################################\n",
            "Training Loss = 0.0031703565764427187        \tTraining Accuracy = 0.84482        \tValidation_loss = 0.003217059922218323        \tValidation Accuracy = 0.8517\n",
            "################################### Epoch 18 ###################################\n",
            "Training Loss = 0.003168419306278229        \tTraining Accuracy = 0.8454        \tValidation_loss = 0.003223519515991211        \tValidation Accuracy = 0.8481\n",
            "################################### Epoch 19 ###################################\n",
            "Training Loss = 0.0031658893823623656        \tTraining Accuracy = 0.84674        \tValidation_loss = 0.0032132511734962463        \tValidation Accuracy = 0.8546\n",
            "################################### Epoch 20 ###################################\n",
            "Training Loss = 0.0031640176248550417        \tTraining Accuracy = 0.84788        \tValidation_loss = 0.0032175241351127624        \tValidation Accuracy = 0.8521\n"
          ]
        }
      ]
    },
    {
      "cell_type": "code",
      "source": [
        "model = torch.load(model_name)\n",
        "test_model(model, test_data_with_transforms_data_loader, device)"
      ],
      "metadata": {
        "colab": {
          "base_uri": "https://localhost:8080/"
        },
        "id": "_QjyoEBrGz0Y",
        "outputId": "170162ed-5121-43dc-a6bd-27f8ce972a37"
      },
      "execution_count": null,
      "outputs": [
        {
          "output_type": "stream",
          "name": "stdout",
          "text": [
            "Testing Accuracy = 0.8526\n"
          ]
        }
      ]
    },
    {
      "cell_type": "code",
      "source": [
        "draw_loss_curves(train_loss_for_transformed_data, validation_loss_for_transformed_data)"
      ],
      "metadata": {
        "colab": {
          "base_uri": "https://localhost:8080/",
          "height": 295
        },
        "id": "QuFjip9jNEAb",
        "outputId": "06f1c8ad-dadc-47d2-c7fb-28ae33629a11"
      },
      "execution_count": null,
      "outputs": [
        {
          "output_type": "display_data",
          "data": {
            "text/plain": [
              "<Figure size 432x288 with 1 Axes>"
            ],
            "image/png": "[encoded data removed]"
          },
          "metadata": {
            "needs_background": "light"
          }
        }
      ]
    },
    {
      "cell_type": "code",
      "source": [
        "best_model = torch.load('model_4')\n",
        "best_model.parameters"
      ],
      "metadata": {
        "colab": {
          "base_uri": "https://localhost:8080/"
        },
        "id": "ADOKuxHcNJoc",
        "outputId": "ab732e58-f4bf-46bd-d6f5-92457f617784"
      },
      "execution_count": null,
      "outputs": [
        {
          "output_type": "execute_result",
          "data": {
            "text/plain": [
              "<bound method Module.parameters of MyCnnModel_2(\n",
              "  (convolutional_sequence_1): Sequential(\n",
              "    (0): Conv2d(1, 8, kernel_size=(3, 3), stride=(1, 1), padding=(1, 1))\n",
              "    (1): BatchNorm2d(8, eps=1e-05, momentum=0.1, affine=True, track_running_stats=True)\n",
              "    (2): ReLU()\n",
              "  )\n",
              "  (convolutional_sequence_2): Sequential(\n",
              "    (0): Conv2d(8, 16, kernel_size=(3, 3), stride=(1, 1), padding=(1, 1))\n",
              "    (1): BatchNorm2d(16, eps=1e-05, momentum=0.1, affine=True, track_running_stats=True)\n",
              "    (2): ReLU()\n",
              "  )\n",
              "  (convolutional_sequence_3): Sequential(\n",
              "    (0): Conv2d(16, 32, kernel_size=(3, 3), stride=(1, 1), padding=(1, 1))\n",
              "    (1): BatchNorm2d(32, eps=1e-05, momentum=0.1, affine=True, track_running_stats=True)\n",
              "    (2): ReLU()\n",
              "  )\n",
              "  (convolutional_sequence_4): Sequential(\n",
              "    (0): Conv2d(32, 64, kernel_size=(3, 3), stride=(1, 1), padding=(1, 1))\n",
              "    (1): BatchNorm2d(64, eps=1e-05, momentum=0.1, affine=True, track_running_stats=True)\n",
              "    (2): ReLU()\n",
              "    (3): MaxPool2d(kernel_size=(2, 2), stride=(2, 2), padding=0, dilation=1, ceil_mode=False)\n",
              "  )\n",
              "  (flattening_layer): Flatten(start_dim=1, end_dim=-1)\n",
              "  (fully_connected_sequence_1): Sequential(\n",
              "    (0): Linear(in_features=12544, out_features=256, bias=True)\n",
              "    (1): Dropout(p=0.2, inplace=False)\n",
              "    (2): LeakyReLU(negative_slope=0.01)\n",
              "  )\n",
              "  (fully_connected_sequence_2): Sequential(\n",
              "    (0): Linear(in_features=256, out_features=128, bias=True)\n",
              "    (1): Dropout(p=0.2, inplace=False)\n",
              "    (2): LeakyReLU(negative_slope=0.01)\n",
              "  )\n",
              "  (fully_connected_sequence_3): Sequential(\n",
              "    (0): Linear(in_features=128, out_features=64, bias=True)\n",
              "    (1): Dropout(p=0.2, inplace=False)\n",
              "    (2): LeakyReLU(negative_slope=0.01)\n",
              "  )\n",
              "  (output_layer): Sequential(\n",
              "    (0): Linear(in_features=64, out_features=10, bias=True)\n",
              "    (1): Softmax(dim=1)\n",
              "  )\n",
              ")>"
            ]
          },
          "metadata": {},
          "execution_count": 117
        }
      ]
    },
    {
      "cell_type": "code",
      "source": [
        "summary(model, input_size= (1,28,28))"
      ],
      "metadata": {
        "colab": {
          "base_uri": "https://localhost:8080/"
        },
        "id": "hIzUTrmFr-LZ",
        "outputId": "620ab42e-41d5-4f86-d8c2-8580dc4e2e76"
      },
      "execution_count": null,
      "outputs": [
        {
          "output_type": "stream",
          "name": "stdout",
          "text": [
            "After 1st FC layer: torch.Size([2, 256])\n",
            "After 2nd FC layer: torch.Size([2, 128])\n",
            "After 3nd FC layer: torch.Size([2, 64])\n",
            "After O/P layer: torch.Size([2, 10])\n",
            "----------------------------------------------------------------\n",
            "        Layer (type)               Output Shape         Param #\n",
            "================================================================\n",
            "            Conv2d-1            [-1, 8, 28, 28]              80\n",
            "       BatchNorm2d-2            [-1, 8, 28, 28]              16\n",
            "              ReLU-3            [-1, 8, 28, 28]               0\n",
            "            Conv2d-4           [-1, 16, 28, 28]           1,168\n",
            "       BatchNorm2d-5           [-1, 16, 28, 28]              32\n",
            "              ReLU-6           [-1, 16, 28, 28]               0\n",
            "            Conv2d-7           [-1, 32, 28, 28]           4,640\n",
            "       BatchNorm2d-8           [-1, 32, 28, 28]              64\n",
            "              ReLU-9           [-1, 32, 28, 28]               0\n",
            "           Conv2d-10           [-1, 64, 28, 28]          18,496\n",
            "      BatchNorm2d-11           [-1, 64, 28, 28]             128\n",
            "             ReLU-12           [-1, 64, 28, 28]               0\n",
            "        MaxPool2d-13           [-1, 64, 14, 14]               0\n",
            "          Flatten-14                [-1, 12544]               0\n",
            "           Linear-15                  [-1, 256]       3,211,520\n",
            "          Dropout-16                  [-1, 256]               0\n",
            "             ReLU-17                  [-1, 256]               0\n",
            "             ReLU-18                  [-1, 256]               0\n",
            "             ReLU-19                  [-1, 256]               0\n",
            "           Linear-20                  [-1, 128]          32,896\n",
            "          Dropout-21                  [-1, 128]               0\n",
            "             ReLU-22                  [-1, 128]               0\n",
            "             ReLU-23                  [-1, 128]               0\n",
            "             ReLU-24                  [-1, 128]               0\n",
            "           Linear-25                   [-1, 64]           8,256\n",
            "          Dropout-26                   [-1, 64]               0\n",
            "             ReLU-27                   [-1, 64]               0\n",
            "             ReLU-28                   [-1, 64]               0\n",
            "             ReLU-29                   [-1, 64]               0\n",
            "           Linear-30                   [-1, 10]             650\n",
            "          Softmax-31                   [-1, 10]               0\n",
            "================================================================\n",
            "Total params: 3,277,946\n",
            "Trainable params: 3,277,946\n",
            "Non-trainable params: 0\n",
            "----------------------------------------------------------------\n",
            "Input size (MB): 0.00\n",
            "Forward/backward pass size (MB): 2.36\n",
            "Params size (MB): 12.50\n",
            "Estimated Total Size (MB): 14.87\n",
            "----------------------------------------------------------------\n"
          ]
        }
      ]
    },
    {
      "cell_type": "code",
      "source": [],
      "metadata": {
        "id": "QMRx6rlNkIkX"
      },
      "execution_count": null,
      "outputs": []
    }
  ]
}